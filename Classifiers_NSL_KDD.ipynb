{
  "cells": [
    {
      "cell_type": "code",
      "execution_count": 3,
      "metadata": {
        "id": "7MblIbMu31gO"
      },
      "outputs": [],
      "source": [
        "from sklearn.metrics import accuracy_score # for calculating accuracy of model\n",
        "from sklearn.model_selection import train_test_split # for splitting the dataset for training and testing\n",
        "from sklearn.metrics import classification_report # for generating a classification report of model\n",
        "import pickle # saving and loading trained model\n",
        "from os import path\n",
        "import numpy as np\n",
        "import pandas as pd\n",
        "import matplotlib.pyplot as plt"
      ]
    },
    {
      "cell_type": "code",
      "execution_count": 2,
      "metadata": {},
      "outputs": [
        {
          "name": "stdout",
          "output_type": "stream",
          "text": [
            "Collecting matplotlib\n",
            "  Downloading matplotlib-3.8.3-cp311-cp311-macosx_11_0_arm64.whl.metadata (5.8 kB)\n",
            "Collecting contourpy>=1.0.1 (from matplotlib)\n",
            "  Downloading contourpy-1.2.0-cp311-cp311-macosx_11_0_arm64.whl.metadata (5.8 kB)\n",
            "Collecting cycler>=0.10 (from matplotlib)\n",
            "  Downloading cycler-0.12.1-py3-none-any.whl.metadata (3.8 kB)\n",
            "Collecting fonttools>=4.22.0 (from matplotlib)\n",
            "  Downloading fonttools-4.49.0-cp311-cp311-macosx_10_9_universal2.whl.metadata (159 kB)\n",
            "\u001b[2K     \u001b[90m━━━━━━━━━━━━━━━━━━━━━━━━━━━━━━━━━━━━━━\u001b[0m \u001b[32m159.1/159.1 kB\u001b[0m \u001b[31m35.0 kB/s\u001b[0m eta \u001b[36m0:00:00\u001b[0ma \u001b[36m0:00:01\u001b[0m\n",
            "\u001b[?25hCollecting kiwisolver>=1.3.1 (from matplotlib)\n",
            "  Downloading kiwisolver-1.4.5-cp311-cp311-macosx_11_0_arm64.whl.metadata (6.4 kB)\n",
            "Requirement already satisfied: numpy<2,>=1.21 in /Library/Frameworks/Python.framework/Versions/3.11/lib/python3.11/site-packages (from matplotlib) (1.25.2)\n",
            "Requirement already satisfied: packaging>=20.0 in /Library/Frameworks/Python.framework/Versions/3.11/lib/python3.11/site-packages (from matplotlib) (23.1)\n",
            "Collecting pillow>=8 (from matplotlib)\n",
            "  Downloading pillow-10.2.0-cp311-cp311-macosx_11_0_arm64.whl.metadata (9.7 kB)\n",
            "Collecting pyparsing>=2.3.1 (from matplotlib)\n",
            "  Downloading pyparsing-3.1.1-py3-none-any.whl.metadata (5.1 kB)\n",
            "Requirement already satisfied: python-dateutil>=2.7 in /Library/Frameworks/Python.framework/Versions/3.11/lib/python3.11/site-packages (from matplotlib) (2.8.2)\n",
            "Requirement already satisfied: six>=1.5 in /Library/Frameworks/Python.framework/Versions/3.11/lib/python3.11/site-packages (from python-dateutil>=2.7->matplotlib) (1.16.0)\n",
            "Downloading matplotlib-3.8.3-cp311-cp311-macosx_11_0_arm64.whl (7.5 MB)\n",
            "\u001b[2K   \u001b[90m━━━━━━━━━━━━━━━━━━━━━━━━━━━━━━━━━━━━━━━━\u001b[0m \u001b[32m7.5/7.5 MB\u001b[0m \u001b[31m740.8 kB/s\u001b[0m eta \u001b[36m0:00:00\u001b[0m00:01\u001b[0m00:01\u001b[0m\n",
            "\u001b[?25hDownloading contourpy-1.2.0-cp311-cp311-macosx_11_0_arm64.whl (243 kB)\n",
            "\u001b[2K   \u001b[90m━━━━━━━━━━━━━━━━━━━━━━━━━━━━━━━━━━━━━━━━\u001b[0m \u001b[32m243.4/243.4 kB\u001b[0m \u001b[31m3.4 MB/s\u001b[0m eta \u001b[36m0:00:00\u001b[0ma \u001b[36m0:00:01\u001b[0m\n",
            "\u001b[?25hDownloading cycler-0.12.1-py3-none-any.whl (8.3 kB)\n",
            "Downloading fonttools-4.49.0-cp311-cp311-macosx_10_9_universal2.whl (2.8 MB)\n",
            "\u001b[2K   \u001b[90m━━━━━━━━━━━━━━━━━━━━━━━━━━━━━━━━━━━━━━━━\u001b[0m \u001b[32m2.8/2.8 MB\u001b[0m \u001b[31m1.9 MB/s\u001b[0m eta \u001b[36m0:00:00\u001b[0m00:01\u001b[0m00:01\u001b[0m\n",
            "\u001b[?25hDownloading kiwisolver-1.4.5-cp311-cp311-macosx_11_0_arm64.whl (66 kB)\n",
            "\u001b[2K   \u001b[90m━━━━━━━━━━━━━━━━━━━━━━━━━━━━━━━━━━━━━━━━\u001b[0m \u001b[32m66.2/66.2 kB\u001b[0m \u001b[31m3.8 MB/s\u001b[0m eta \u001b[36m0:00:00\u001b[0m\n",
            "\u001b[?25hDownloading pillow-10.2.0-cp311-cp311-macosx_11_0_arm64.whl (3.3 MB)\n",
            "\u001b[2K   \u001b[90m━━━━━━━━━━━━━━━━━━━━━━━━━━━━━━━━━━━━━━━━\u001b[0m \u001b[32m3.3/3.3 MB\u001b[0m \u001b[31m974.1 kB/s\u001b[0m eta \u001b[36m0:00:00\u001b[0m00:01\u001b[0m:01\u001b[0m0m\n",
            "\u001b[?25hDownloading pyparsing-3.1.1-py3-none-any.whl (103 kB)\n",
            "\u001b[2K   \u001b[90m━━━━━━━━━━━━━━━━━━━━━━━━━━━━━━━━━━━━━━━\u001b[0m \u001b[32m103.1/103.1 kB\u001b[0m \u001b[31m251.5 kB/s\u001b[0m eta \u001b[36m0:00:00\u001b[0m00:01\u001b[0m00:01\u001b[0m\n",
            "\u001b[?25hInstalling collected packages: pyparsing, pillow, kiwisolver, fonttools, cycler, contourpy, matplotlib\n",
            "Successfully installed contourpy-1.2.0 cycler-0.12.1 fonttools-4.49.0 kiwisolver-1.4.5 matplotlib-3.8.3 pillow-10.2.0 pyparsing-3.1.1\n",
            "\n",
            "\u001b[1m[\u001b[0m\u001b[34;49mnotice\u001b[0m\u001b[1;39;49m]\u001b[0m\u001b[39;49m A new release of pip is available: \u001b[0m\u001b[31;49m23.3.1\u001b[0m\u001b[39;49m -> \u001b[0m\u001b[32;49m24.0\u001b[0m\n",
            "\u001b[1m[\u001b[0m\u001b[34;49mnotice\u001b[0m\u001b[1;39;49m]\u001b[0m\u001b[39;49m To update, run: \u001b[0m\u001b[32;49mpip3 install --upgrade pip\u001b[0m\n",
            "Note: you may need to restart the kernel to use updated packages.\n"
          ]
        }
      ],
      "source": [
        "%pip install matplotlib"
      ]
    },
    {
      "cell_type": "code",
      "execution_count": 5,
      "metadata": {
        "id": "DriCvhiI4JTH"
      },
      "outputs": [],
      "source": [
        "bin_data = pd.read_csv('datasets/bin_data.csv')\n",
        "bin_data.drop(bin_data.columns[0],axis=1,inplace=True)\n",
        "multi_data = pd.read_csv('datasets/multi_data.csv')\n",
        "multi_data.drop(multi_data.columns[0],axis=1,inplace=True)\n",
        "le1_classes_ = np.load('labels/le1_classes.npy',allow_pickle=True)\n",
        "le2_classes_ = np.load('labels/le2_classes.npy',allow_pickle=True)"
      ]
    },
    {
      "cell_type": "markdown",
      "metadata": {
        "id": "X6gO0-O_ev95"
      },
      "source": [
        "# **Linear Support Vector Machine Classifier (Binary Classification)**"
      ]
    },
    {
      "cell_type": "code",
      "execution_count": 6,
      "metadata": {
        "id": "i46cQs7J9sR8"
      },
      "outputs": [],
      "source": [
        "# importing library for support vector machine classifier\n",
        "from sklearn.svm import SVC"
      ]
    },
    {
      "cell_type": "code",
      "execution_count": 7,
      "metadata": {
        "id": "G73DgDbpfHdP"
      },
      "outputs": [],
      "source": [
        "X = bin_data.iloc[:,0:93].to_numpy() # dataset excluding target attribute (encoded, one-hot-encoded,original)\n",
        "Y = bin_data['intrusion'] # target attribute"
      ]
    },
    {
      "cell_type": "code",
      "execution_count": 8,
      "metadata": {
        "id": "-8CHud3rbmEB"
      },
      "outputs": [],
      "source": [
        "# splitting the dataset 75% for training and 25% testing\n",
        "X_train, X_test, y_train, y_test = train_test_split(X,Y, test_size=0.25, random_state=42) "
      ]
    },
    {
      "cell_type": "code",
      "execution_count": 9,
      "metadata": {
        "colab": {
          "base_uri": "https://localhost:8080/"
        },
        "id": "OOg12Nn7e8do",
        "outputId": "e35d9091-3abb-4a6c-8225-229046890d66"
      },
      "outputs": [
        {
          "data": {
            "text/html": [
              "<style>#sk-container-id-1 {color: black;}#sk-container-id-1 pre{padding: 0;}#sk-container-id-1 div.sk-toggleable {background-color: white;}#sk-container-id-1 label.sk-toggleable__label {cursor: pointer;display: block;width: 100%;margin-bottom: 0;padding: 0.3em;box-sizing: border-box;text-align: center;}#sk-container-id-1 label.sk-toggleable__label-arrow:before {content: \"▸\";float: left;margin-right: 0.25em;color: #696969;}#sk-container-id-1 label.sk-toggleable__label-arrow:hover:before {color: black;}#sk-container-id-1 div.sk-estimator:hover label.sk-toggleable__label-arrow:before {color: black;}#sk-container-id-1 div.sk-toggleable__content {max-height: 0;max-width: 0;overflow: hidden;text-align: left;background-color: #f0f8ff;}#sk-container-id-1 div.sk-toggleable__content pre {margin: 0.2em;color: black;border-radius: 0.25em;background-color: #f0f8ff;}#sk-container-id-1 input.sk-toggleable__control:checked~div.sk-toggleable__content {max-height: 200px;max-width: 100%;overflow: auto;}#sk-container-id-1 input.sk-toggleable__control:checked~label.sk-toggleable__label-arrow:before {content: \"▾\";}#sk-container-id-1 div.sk-estimator input.sk-toggleable__control:checked~label.sk-toggleable__label {background-color: #d4ebff;}#sk-container-id-1 div.sk-label input.sk-toggleable__control:checked~label.sk-toggleable__label {background-color: #d4ebff;}#sk-container-id-1 input.sk-hidden--visually {border: 0;clip: rect(1px 1px 1px 1px);clip: rect(1px, 1px, 1px, 1px);height: 1px;margin: -1px;overflow: hidden;padding: 0;position: absolute;width: 1px;}#sk-container-id-1 div.sk-estimator {font-family: monospace;background-color: #f0f8ff;border: 1px dotted black;border-radius: 0.25em;box-sizing: border-box;margin-bottom: 0.5em;}#sk-container-id-1 div.sk-estimator:hover {background-color: #d4ebff;}#sk-container-id-1 div.sk-parallel-item::after {content: \"\";width: 100%;border-bottom: 1px solid gray;flex-grow: 1;}#sk-container-id-1 div.sk-label:hover label.sk-toggleable__label {background-color: #d4ebff;}#sk-container-id-1 div.sk-serial::before {content: \"\";position: absolute;border-left: 1px solid gray;box-sizing: border-box;top: 0;bottom: 0;left: 50%;z-index: 0;}#sk-container-id-1 div.sk-serial {display: flex;flex-direction: column;align-items: center;background-color: white;padding-right: 0.2em;padding-left: 0.2em;position: relative;}#sk-container-id-1 div.sk-item {position: relative;z-index: 1;}#sk-container-id-1 div.sk-parallel {display: flex;align-items: stretch;justify-content: center;background-color: white;position: relative;}#sk-container-id-1 div.sk-item::before, #sk-container-id-1 div.sk-parallel-item::before {content: \"\";position: absolute;border-left: 1px solid gray;box-sizing: border-box;top: 0;bottom: 0;left: 50%;z-index: -1;}#sk-container-id-1 div.sk-parallel-item {display: flex;flex-direction: column;z-index: 1;position: relative;background-color: white;}#sk-container-id-1 div.sk-parallel-item:first-child::after {align-self: flex-end;width: 50%;}#sk-container-id-1 div.sk-parallel-item:last-child::after {align-self: flex-start;width: 50%;}#sk-container-id-1 div.sk-parallel-item:only-child::after {width: 0;}#sk-container-id-1 div.sk-dashed-wrapped {border: 1px dashed gray;margin: 0 0.4em 0.5em 0.4em;box-sizing: border-box;padding-bottom: 0.4em;background-color: white;}#sk-container-id-1 div.sk-label label {font-family: monospace;font-weight: bold;display: inline-block;line-height: 1.2em;}#sk-container-id-1 div.sk-label-container {text-align: center;}#sk-container-id-1 div.sk-container {/* jupyter's `normalize.less` sets `[hidden] { display: none; }` but bootstrap.min.css set `[hidden] { display: none !important; }` so we also need the `!important` here to be able to override the default hidden behavior on the sphinx rendered scikit-learn.org. See: https://github.com/scikit-learn/scikit-learn/issues/21755 */display: inline-block !important;position: relative;}#sk-container-id-1 div.sk-text-repr-fallback {display: none;}</style><div id=\"sk-container-id-1\" class=\"sk-top-container\"><div class=\"sk-text-repr-fallback\"><pre>SVC(gamma=&#x27;auto&#x27;, kernel=&#x27;linear&#x27;)</pre><b>In a Jupyter environment, please rerun this cell to show the HTML representation or trust the notebook. <br />On GitHub, the HTML representation is unable to render, please try loading this page with nbviewer.org.</b></div><div class=\"sk-container\" hidden><div class=\"sk-item\"><div class=\"sk-estimator sk-toggleable\"><input class=\"sk-toggleable__control sk-hidden--visually\" id=\"sk-estimator-id-1\" type=\"checkbox\" checked><label for=\"sk-estimator-id-1\" class=\"sk-toggleable__label sk-toggleable__label-arrow\">SVC</label><div class=\"sk-toggleable__content\"><pre>SVC(gamma=&#x27;auto&#x27;, kernel=&#x27;linear&#x27;)</pre></div></div></div></div></div>"
            ],
            "text/plain": [
              "SVC(gamma='auto', kernel='linear')"
            ]
          },
          "execution_count": 9,
          "metadata": {},
          "output_type": "execute_result"
        }
      ],
      "source": [
        "# using kernel as linear \n",
        "lsvm = SVC(kernel='linear',gamma='auto') \n",
        "lsvm.fit(X_train,y_train) # training model on training dataset"
      ]
    },
    {
      "cell_type": "code",
      "execution_count": 10,
      "metadata": {
        "colab": {
          "base_uri": "https://localhost:8080/"
        },
        "id": "40emxT1YEW1B",
        "outputId": "51238a89-2564-4341-c04e-5078ce99976b"
      },
      "outputs": [],
      "source": [
        "pkl_filename = \"./models/lsvm_binary.pkl\"\n",
        "if (not path.isfile(pkl_filename)):\n",
        "  # saving the trained model to disk\n",
        "  with open(pkl_filename, 'wb') as file:\n",
        "    pickle.dump(lsvm, file)\n",
        "  print(\"Saved model to disk\")\n",
        "  # loading the trained model from disk\n",
        "  with open(pkl_filename, 'rb') as file:\n",
        "    lsvm = pickle.load(file)\n",
        "  print(\"Loaded model from disk\") "
      ]
    },
    {
      "cell_type": "code",
      "execution_count": 11,
      "metadata": {
        "colab": {
          "base_uri": "https://localhost:8080/"
        },
        "id": "NmtWOt9ZipS2",
        "outputId": "f28290f8-7937-487b-c057-85147e4e91a5"
      },
      "outputs": [
        {
          "name": "stdout",
          "output_type": "stream",
          "text": [
            "LSVM-Classifier Binary Set-Accuracy is  96.69460849685655\n"
          ]
        }
      ],
      "source": [
        "y_pred = lsvm.predict(X_test) # predicting target attribute on testing dataset\n",
        "ac = accuracy_score(y_test, y_pred)*100 # calculating accuracy of predicted data\n",
        "print(\"LSVM-Classifier Binary Set-Accuracy is \", ac)"
      ]
    },
    {
      "cell_type": "code",
      "execution_count": 12,
      "metadata": {
        "colab": {
          "base_uri": "https://localhost:8080/"
        },
        "id": "T_-KRKlrg8gS",
        "outputId": "aa6ae973-f345-4a01-d68f-942b102d07ba"
      },
      "outputs": [
        {
          "name": "stdout",
          "output_type": "stream",
          "text": [
            "              precision    recall  f1-score   support\n",
            "\n",
            "    abnormal       0.97      0.96      0.96     14720\n",
            "      normal       0.96      0.97      0.97     16774\n",
            "\n",
            "    accuracy                           0.97     31494\n",
            "   macro avg       0.97      0.97      0.97     31494\n",
            "weighted avg       0.97      0.97      0.97     31494\n",
            "\n"
          ]
        }
      ],
      "source": [
        "# classification report\n",
        "print(classification_report(y_test, y_pred,target_names=le1_classes_))"
      ]
    },
    {
      "cell_type": "markdown",
      "metadata": {
        "id": "7bnFgn5XB_mD"
      },
      "source": [
        "# **K-nearest-neighbor Classifier (Binary Classification)**"
      ]
    },
    {
      "cell_type": "code",
      "execution_count": 13,
      "metadata": {
        "id": "CmdUXiaiB8K9"
      },
      "outputs": [],
      "source": [
        "# importing library for K-neares-neighbor classifier\n",
        "from sklearn.neighbors import KNeighborsClassifier"
      ]
    },
    {
      "cell_type": "code",
      "execution_count": 14,
      "metadata": {
        "colab": {
          "base_uri": "https://localhost:8080/"
        },
        "id": "AlJRTC_MCjoZ",
        "outputId": "ab206f5b-99f5-44ee-811f-c20ea715cde7"
      },
      "outputs": [
        {
          "data": {
            "text/html": [
              "<style>#sk-container-id-2 {color: black;}#sk-container-id-2 pre{padding: 0;}#sk-container-id-2 div.sk-toggleable {background-color: white;}#sk-container-id-2 label.sk-toggleable__label {cursor: pointer;display: block;width: 100%;margin-bottom: 0;padding: 0.3em;box-sizing: border-box;text-align: center;}#sk-container-id-2 label.sk-toggleable__label-arrow:before {content: \"▸\";float: left;margin-right: 0.25em;color: #696969;}#sk-container-id-2 label.sk-toggleable__label-arrow:hover:before {color: black;}#sk-container-id-2 div.sk-estimator:hover label.sk-toggleable__label-arrow:before {color: black;}#sk-container-id-2 div.sk-toggleable__content {max-height: 0;max-width: 0;overflow: hidden;text-align: left;background-color: #f0f8ff;}#sk-container-id-2 div.sk-toggleable__content pre {margin: 0.2em;color: black;border-radius: 0.25em;background-color: #f0f8ff;}#sk-container-id-2 input.sk-toggleable__control:checked~div.sk-toggleable__content {max-height: 200px;max-width: 100%;overflow: auto;}#sk-container-id-2 input.sk-toggleable__control:checked~label.sk-toggleable__label-arrow:before {content: \"▾\";}#sk-container-id-2 div.sk-estimator input.sk-toggleable__control:checked~label.sk-toggleable__label {background-color: #d4ebff;}#sk-container-id-2 div.sk-label input.sk-toggleable__control:checked~label.sk-toggleable__label {background-color: #d4ebff;}#sk-container-id-2 input.sk-hidden--visually {border: 0;clip: rect(1px 1px 1px 1px);clip: rect(1px, 1px, 1px, 1px);height: 1px;margin: -1px;overflow: hidden;padding: 0;position: absolute;width: 1px;}#sk-container-id-2 div.sk-estimator {font-family: monospace;background-color: #f0f8ff;border: 1px dotted black;border-radius: 0.25em;box-sizing: border-box;margin-bottom: 0.5em;}#sk-container-id-2 div.sk-estimator:hover {background-color: #d4ebff;}#sk-container-id-2 div.sk-parallel-item::after {content: \"\";width: 100%;border-bottom: 1px solid gray;flex-grow: 1;}#sk-container-id-2 div.sk-label:hover label.sk-toggleable__label {background-color: #d4ebff;}#sk-container-id-2 div.sk-serial::before {content: \"\";position: absolute;border-left: 1px solid gray;box-sizing: border-box;top: 0;bottom: 0;left: 50%;z-index: 0;}#sk-container-id-2 div.sk-serial {display: flex;flex-direction: column;align-items: center;background-color: white;padding-right: 0.2em;padding-left: 0.2em;position: relative;}#sk-container-id-2 div.sk-item {position: relative;z-index: 1;}#sk-container-id-2 div.sk-parallel {display: flex;align-items: stretch;justify-content: center;background-color: white;position: relative;}#sk-container-id-2 div.sk-item::before, #sk-container-id-2 div.sk-parallel-item::before {content: \"\";position: absolute;border-left: 1px solid gray;box-sizing: border-box;top: 0;bottom: 0;left: 50%;z-index: -1;}#sk-container-id-2 div.sk-parallel-item {display: flex;flex-direction: column;z-index: 1;position: relative;background-color: white;}#sk-container-id-2 div.sk-parallel-item:first-child::after {align-self: flex-end;width: 50%;}#sk-container-id-2 div.sk-parallel-item:last-child::after {align-self: flex-start;width: 50%;}#sk-container-id-2 div.sk-parallel-item:only-child::after {width: 0;}#sk-container-id-2 div.sk-dashed-wrapped {border: 1px dashed gray;margin: 0 0.4em 0.5em 0.4em;box-sizing: border-box;padding-bottom: 0.4em;background-color: white;}#sk-container-id-2 div.sk-label label {font-family: monospace;font-weight: bold;display: inline-block;line-height: 1.2em;}#sk-container-id-2 div.sk-label-container {text-align: center;}#sk-container-id-2 div.sk-container {/* jupyter's `normalize.less` sets `[hidden] { display: none; }` but bootstrap.min.css set `[hidden] { display: none !important; }` so we also need the `!important` here to be able to override the default hidden behavior on the sphinx rendered scikit-learn.org. See: https://github.com/scikit-learn/scikit-learn/issues/21755 */display: inline-block !important;position: relative;}#sk-container-id-2 div.sk-text-repr-fallback {display: none;}</style><div id=\"sk-container-id-2\" class=\"sk-top-container\"><div class=\"sk-text-repr-fallback\"><pre>KNeighborsClassifier()</pre><b>In a Jupyter environment, please rerun this cell to show the HTML representation or trust the notebook. <br />On GitHub, the HTML representation is unable to render, please try loading this page with nbviewer.org.</b></div><div class=\"sk-container\" hidden><div class=\"sk-item\"><div class=\"sk-estimator sk-toggleable\"><input class=\"sk-toggleable__control sk-hidden--visually\" id=\"sk-estimator-id-2\" type=\"checkbox\" checked><label for=\"sk-estimator-id-2\" class=\"sk-toggleable__label sk-toggleable__label-arrow\">KNeighborsClassifier</label><div class=\"sk-toggleable__content\"><pre>KNeighborsClassifier()</pre></div></div></div></div></div>"
            ],
            "text/plain": [
              "KNeighborsClassifier()"
            ]
          },
          "execution_count": 14,
          "metadata": {},
          "output_type": "execute_result"
        }
      ],
      "source": [
        "knn=KNeighborsClassifier(n_neighbors=5) # creating model for 5 neighbors\n",
        "knn.fit(X_train,y_train) # training model on training dataset"
      ]
    },
    {
      "cell_type": "code",
      "execution_count": 15,
      "metadata": {
        "colab": {
          "base_uri": "https://localhost:8080/"
        },
        "id": "b7sDNWHBFG49",
        "outputId": "b2b57879-1ca9-4991-c669-f6dcbced70a2"
      },
      "outputs": [],
      "source": [
        "pkl_filename = \"./models/knn_binary.pkl\"\n",
        "if (not path.isfile(pkl_filename)):\n",
        "  # saving the trained model to disk\n",
        "  with open(pkl_filename, 'wb') as file:\n",
        "    pickle.dump(knn, file)\n",
        "  print(\"Saved model to disk\")\n",
        "  # loading the trained model from disk\n",
        "  with open(pkl_filename, 'rb') as file:\n",
        "    knn = pickle.load(file)\n",
        "  print(\"Loaded model from disk\")"
      ]
    },
    {
      "cell_type": "code",
      "execution_count": 16,
      "metadata": {
        "colab": {
          "base_uri": "https://localhost:8080/"
        },
        "id": "VhDTePIsBm-t",
        "outputId": "036555c6-90a4-4cab-fada-9c55491864b7"
      },
      "outputs": [
        {
          "name": "stdout",
          "output_type": "stream",
          "text": [
            "KNN-Classifier Binary Set-Accuracy is  98.58068203467327\n"
          ]
        }
      ],
      "source": [
        "y_pred=knn.predict(X_test) # predicting target attribute on testing dataset\n",
        "ac=accuracy_score(y_test, y_pred)*100 # calculating accuracy of predicted data\n",
        "print(\"KNN-Classifier Binary Set-Accuracy is \", ac)"
      ]
    },
    {
      "cell_type": "code",
      "execution_count": 17,
      "metadata": {
        "colab": {
          "base_uri": "https://localhost:8080/"
        },
        "id": "cSzvTXikg2pA",
        "outputId": "d3d01b41-937f-459f-8f9b-6a0c7e99d63b"
      },
      "outputs": [
        {
          "name": "stdout",
          "output_type": "stream",
          "text": [
            "              precision    recall  f1-score   support\n",
            "\n",
            "    abnormal       0.99      0.98      0.98     14720\n",
            "      normal       0.99      0.99      0.99     16774\n",
            "\n",
            "    accuracy                           0.99     31494\n",
            "   macro avg       0.99      0.99      0.99     31494\n",
            "weighted avg       0.99      0.99      0.99     31494\n",
            "\n"
          ]
        }
      ],
      "source": [
        "# classification report\n",
        "print(classification_report(y_test, y_pred,target_names=le1_classes_))"
      ]
    },
    {
      "cell_type": "markdown",
      "metadata": {
        "id": "0mfnQh0jtn8a"
      },
      "source": [
        "# **Linear Discriminant Analysis Classifier (Binary Classification)**"
      ]
    },
    {
      "cell_type": "code",
      "execution_count": 18,
      "metadata": {
        "id": "3YtnOUXatx4V"
      },
      "outputs": [],
      "source": [
        "# importing library for Linear Discriminant Analysis Model\n",
        "from sklearn.discriminant_analysis import LinearDiscriminantAnalysis"
      ]
    },
    {
      "cell_type": "code",
      "execution_count": 19,
      "metadata": {
        "colab": {
          "base_uri": "https://localhost:8080/"
        },
        "id": "11-UNM_atzpz",
        "outputId": "3d301502-7b07-4832-a9d2-fc3db24d22d7"
      },
      "outputs": [
        {
          "data": {
            "text/html": [
              "<style>#sk-container-id-3 {color: black;}#sk-container-id-3 pre{padding: 0;}#sk-container-id-3 div.sk-toggleable {background-color: white;}#sk-container-id-3 label.sk-toggleable__label {cursor: pointer;display: block;width: 100%;margin-bottom: 0;padding: 0.3em;box-sizing: border-box;text-align: center;}#sk-container-id-3 label.sk-toggleable__label-arrow:before {content: \"▸\";float: left;margin-right: 0.25em;color: #696969;}#sk-container-id-3 label.sk-toggleable__label-arrow:hover:before {color: black;}#sk-container-id-3 div.sk-estimator:hover label.sk-toggleable__label-arrow:before {color: black;}#sk-container-id-3 div.sk-toggleable__content {max-height: 0;max-width: 0;overflow: hidden;text-align: left;background-color: #f0f8ff;}#sk-container-id-3 div.sk-toggleable__content pre {margin: 0.2em;color: black;border-radius: 0.25em;background-color: #f0f8ff;}#sk-container-id-3 input.sk-toggleable__control:checked~div.sk-toggleable__content {max-height: 200px;max-width: 100%;overflow: auto;}#sk-container-id-3 input.sk-toggleable__control:checked~label.sk-toggleable__label-arrow:before {content: \"▾\";}#sk-container-id-3 div.sk-estimator input.sk-toggleable__control:checked~label.sk-toggleable__label {background-color: #d4ebff;}#sk-container-id-3 div.sk-label input.sk-toggleable__control:checked~label.sk-toggleable__label {background-color: #d4ebff;}#sk-container-id-3 input.sk-hidden--visually {border: 0;clip: rect(1px 1px 1px 1px);clip: rect(1px, 1px, 1px, 1px);height: 1px;margin: -1px;overflow: hidden;padding: 0;position: absolute;width: 1px;}#sk-container-id-3 div.sk-estimator {font-family: monospace;background-color: #f0f8ff;border: 1px dotted black;border-radius: 0.25em;box-sizing: border-box;margin-bottom: 0.5em;}#sk-container-id-3 div.sk-estimator:hover {background-color: #d4ebff;}#sk-container-id-3 div.sk-parallel-item::after {content: \"\";width: 100%;border-bottom: 1px solid gray;flex-grow: 1;}#sk-container-id-3 div.sk-label:hover label.sk-toggleable__label {background-color: #d4ebff;}#sk-container-id-3 div.sk-serial::before {content: \"\";position: absolute;border-left: 1px solid gray;box-sizing: border-box;top: 0;bottom: 0;left: 50%;z-index: 0;}#sk-container-id-3 div.sk-serial {display: flex;flex-direction: column;align-items: center;background-color: white;padding-right: 0.2em;padding-left: 0.2em;position: relative;}#sk-container-id-3 div.sk-item {position: relative;z-index: 1;}#sk-container-id-3 div.sk-parallel {display: flex;align-items: stretch;justify-content: center;background-color: white;position: relative;}#sk-container-id-3 div.sk-item::before, #sk-container-id-3 div.sk-parallel-item::before {content: \"\";position: absolute;border-left: 1px solid gray;box-sizing: border-box;top: 0;bottom: 0;left: 50%;z-index: -1;}#sk-container-id-3 div.sk-parallel-item {display: flex;flex-direction: column;z-index: 1;position: relative;background-color: white;}#sk-container-id-3 div.sk-parallel-item:first-child::after {align-self: flex-end;width: 50%;}#sk-container-id-3 div.sk-parallel-item:last-child::after {align-self: flex-start;width: 50%;}#sk-container-id-3 div.sk-parallel-item:only-child::after {width: 0;}#sk-container-id-3 div.sk-dashed-wrapped {border: 1px dashed gray;margin: 0 0.4em 0.5em 0.4em;box-sizing: border-box;padding-bottom: 0.4em;background-color: white;}#sk-container-id-3 div.sk-label label {font-family: monospace;font-weight: bold;display: inline-block;line-height: 1.2em;}#sk-container-id-3 div.sk-label-container {text-align: center;}#sk-container-id-3 div.sk-container {/* jupyter's `normalize.less` sets `[hidden] { display: none; }` but bootstrap.min.css set `[hidden] { display: none !important; }` so we also need the `!important` here to be able to override the default hidden behavior on the sphinx rendered scikit-learn.org. See: https://github.com/scikit-learn/scikit-learn/issues/21755 */display: inline-block !important;position: relative;}#sk-container-id-3 div.sk-text-repr-fallback {display: none;}</style><div id=\"sk-container-id-3\" class=\"sk-top-container\"><div class=\"sk-text-repr-fallback\"><pre>LinearDiscriminantAnalysis()</pre><b>In a Jupyter environment, please rerun this cell to show the HTML representation or trust the notebook. <br />On GitHub, the HTML representation is unable to render, please try loading this page with nbviewer.org.</b></div><div class=\"sk-container\" hidden><div class=\"sk-item\"><div class=\"sk-estimator sk-toggleable\"><input class=\"sk-toggleable__control sk-hidden--visually\" id=\"sk-estimator-id-3\" type=\"checkbox\" checked><label for=\"sk-estimator-id-3\" class=\"sk-toggleable__label sk-toggleable__label-arrow\">LinearDiscriminantAnalysis</label><div class=\"sk-toggleable__content\"><pre>LinearDiscriminantAnalysis()</pre></div></div></div></div></div>"
            ],
            "text/plain": [
              "LinearDiscriminantAnalysis()"
            ]
          },
          "execution_count": 19,
          "metadata": {},
          "output_type": "execute_result"
        }
      ],
      "source": [
        "lda = LinearDiscriminantAnalysis() \n",
        "lda.fit(X_train, y_train)  # training model on training dataset"
      ]
    },
    {
      "cell_type": "code",
      "execution_count": 20,
      "metadata": {
        "colab": {
          "base_uri": "https://localhost:8080/"
        },
        "id": "dRY09jVFEJRy",
        "outputId": "1d17764b-b692-438e-a131-e43981045ee9"
      },
      "outputs": [],
      "source": [
        "pkl_filename = \"./models/lda_binary.pkl\"\n",
        "if (not path.isfile(pkl_filename)):\n",
        "  # saving trained model to disk\n",
        "  with open(pkl_filename, 'wb') as file:\n",
        "    pickle.dump(lda, file)\n",
        "  print(\"Saved model to disk\")\n",
        "  # loading trained model from disk\n",
        "  with open(pkl_filename, 'rb') as file:\n",
        "    lda = pickle.load(file)\n",
        "  print(\"Loaded model from disk\")"
      ]
    },
    {
      "cell_type": "code",
      "execution_count": 21,
      "metadata": {
        "colab": {
          "base_uri": "https://localhost:8080/"
        },
        "id": "hP0SNgdytqCA",
        "outputId": "8af55a76-ef24-4655-fae8-fbc3dea284fe"
      },
      "outputs": [
        {
          "name": "stdout",
          "output_type": "stream",
          "text": [
            "LDA-Classifier Set-Accuracy is  96.70730932876104\n"
          ]
        }
      ],
      "source": [
        "y_pred = lda.predict(X_test) # predicting target attribute on testing dataset\n",
        "ac=accuracy_score(y_test, y_pred)*100 # calculating accuracy of predicted data\n",
        "print(\"LDA-Classifier Set-Accuracy is \", ac)"
      ]
    },
    {
      "cell_type": "code",
      "execution_count": 22,
      "metadata": {
        "colab": {
          "base_uri": "https://localhost:8080/"
        },
        "id": "mYnAzR9xuJ7Q",
        "outputId": "759e4e5d-c600-4fe8-8179-ba8bade8bed6"
      },
      "outputs": [
        {
          "name": "stdout",
          "output_type": "stream",
          "text": [
            "              precision    recall  f1-score   support\n",
            "\n",
            "    abnormal       0.97      0.96      0.96     14720\n",
            "      normal       0.96      0.98      0.97     16774\n",
            "\n",
            "    accuracy                           0.97     31494\n",
            "   macro avg       0.97      0.97      0.97     31494\n",
            "weighted avg       0.97      0.97      0.97     31494\n",
            "\n"
          ]
        }
      ],
      "source": [
        "# classification report\n",
        "print(classification_report(y_test, y_pred,target_names=le1_classes_))"
      ]
    },
    {
      "cell_type": "markdown",
      "metadata": {
        "id": "fOETMr33uwN0"
      },
      "source": [
        "# **Quadratic Discriminant Analysis Classifier (Binary Classification)**"
      ]
    },
    {
      "cell_type": "code",
      "execution_count": 23,
      "metadata": {
        "id": "7kmCNlw_uvoL"
      },
      "outputs": [],
      "source": [
        "# importing library for Quadratic Discriminant Analysis Model\n",
        "from sklearn.discriminant_analysis import QuadraticDiscriminantAnalysis"
      ]
    },
    {
      "cell_type": "code",
      "execution_count": 24,
      "metadata": {
        "colab": {
          "base_uri": "https://localhost:8080/"
        },
        "id": "ALsaiYPYu9uV",
        "outputId": "d934a17d-d439-4c15-fb15-20a780202d35"
      },
      "outputs": [
        {
          "name": "stderr",
          "output_type": "stream",
          "text": [
            "/Library/Frameworks/Python.framework/Versions/3.11/lib/python3.11/site-packages/sklearn/discriminant_analysis.py:935: UserWarning: Variables are collinear\n",
            "  warnings.warn(\"Variables are collinear\")\n"
          ]
        },
        {
          "data": {
            "text/html": [
              "<style>#sk-container-id-4 {color: black;}#sk-container-id-4 pre{padding: 0;}#sk-container-id-4 div.sk-toggleable {background-color: white;}#sk-container-id-4 label.sk-toggleable__label {cursor: pointer;display: block;width: 100%;margin-bottom: 0;padding: 0.3em;box-sizing: border-box;text-align: center;}#sk-container-id-4 label.sk-toggleable__label-arrow:before {content: \"▸\";float: left;margin-right: 0.25em;color: #696969;}#sk-container-id-4 label.sk-toggleable__label-arrow:hover:before {color: black;}#sk-container-id-4 div.sk-estimator:hover label.sk-toggleable__label-arrow:before {color: black;}#sk-container-id-4 div.sk-toggleable__content {max-height: 0;max-width: 0;overflow: hidden;text-align: left;background-color: #f0f8ff;}#sk-container-id-4 div.sk-toggleable__content pre {margin: 0.2em;color: black;border-radius: 0.25em;background-color: #f0f8ff;}#sk-container-id-4 input.sk-toggleable__control:checked~div.sk-toggleable__content {max-height: 200px;max-width: 100%;overflow: auto;}#sk-container-id-4 input.sk-toggleable__control:checked~label.sk-toggleable__label-arrow:before {content: \"▾\";}#sk-container-id-4 div.sk-estimator input.sk-toggleable__control:checked~label.sk-toggleable__label {background-color: #d4ebff;}#sk-container-id-4 div.sk-label input.sk-toggleable__control:checked~label.sk-toggleable__label {background-color: #d4ebff;}#sk-container-id-4 input.sk-hidden--visually {border: 0;clip: rect(1px 1px 1px 1px);clip: rect(1px, 1px, 1px, 1px);height: 1px;margin: -1px;overflow: hidden;padding: 0;position: absolute;width: 1px;}#sk-container-id-4 div.sk-estimator {font-family: monospace;background-color: #f0f8ff;border: 1px dotted black;border-radius: 0.25em;box-sizing: border-box;margin-bottom: 0.5em;}#sk-container-id-4 div.sk-estimator:hover {background-color: #d4ebff;}#sk-container-id-4 div.sk-parallel-item::after {content: \"\";width: 100%;border-bottom: 1px solid gray;flex-grow: 1;}#sk-container-id-4 div.sk-label:hover label.sk-toggleable__label {background-color: #d4ebff;}#sk-container-id-4 div.sk-serial::before {content: \"\";position: absolute;border-left: 1px solid gray;box-sizing: border-box;top: 0;bottom: 0;left: 50%;z-index: 0;}#sk-container-id-4 div.sk-serial {display: flex;flex-direction: column;align-items: center;background-color: white;padding-right: 0.2em;padding-left: 0.2em;position: relative;}#sk-container-id-4 div.sk-item {position: relative;z-index: 1;}#sk-container-id-4 div.sk-parallel {display: flex;align-items: stretch;justify-content: center;background-color: white;position: relative;}#sk-container-id-4 div.sk-item::before, #sk-container-id-4 div.sk-parallel-item::before {content: \"\";position: absolute;border-left: 1px solid gray;box-sizing: border-box;top: 0;bottom: 0;left: 50%;z-index: -1;}#sk-container-id-4 div.sk-parallel-item {display: flex;flex-direction: column;z-index: 1;position: relative;background-color: white;}#sk-container-id-4 div.sk-parallel-item:first-child::after {align-self: flex-end;width: 50%;}#sk-container-id-4 div.sk-parallel-item:last-child::after {align-self: flex-start;width: 50%;}#sk-container-id-4 div.sk-parallel-item:only-child::after {width: 0;}#sk-container-id-4 div.sk-dashed-wrapped {border: 1px dashed gray;margin: 0 0.4em 0.5em 0.4em;box-sizing: border-box;padding-bottom: 0.4em;background-color: white;}#sk-container-id-4 div.sk-label label {font-family: monospace;font-weight: bold;display: inline-block;line-height: 1.2em;}#sk-container-id-4 div.sk-label-container {text-align: center;}#sk-container-id-4 div.sk-container {/* jupyter's `normalize.less` sets `[hidden] { display: none; }` but bootstrap.min.css set `[hidden] { display: none !important; }` so we also need the `!important` here to be able to override the default hidden behavior on the sphinx rendered scikit-learn.org. See: https://github.com/scikit-learn/scikit-learn/issues/21755 */display: inline-block !important;position: relative;}#sk-container-id-4 div.sk-text-repr-fallback {display: none;}</style><div id=\"sk-container-id-4\" class=\"sk-top-container\"><div class=\"sk-text-repr-fallback\"><pre>QuadraticDiscriminantAnalysis()</pre><b>In a Jupyter environment, please rerun this cell to show the HTML representation or trust the notebook. <br />On GitHub, the HTML representation is unable to render, please try loading this page with nbviewer.org.</b></div><div class=\"sk-container\" hidden><div class=\"sk-item\"><div class=\"sk-estimator sk-toggleable\"><input class=\"sk-toggleable__control sk-hidden--visually\" id=\"sk-estimator-id-4\" type=\"checkbox\" checked><label for=\"sk-estimator-id-4\" class=\"sk-toggleable__label sk-toggleable__label-arrow\">QuadraticDiscriminantAnalysis</label><div class=\"sk-toggleable__content\"><pre>QuadraticDiscriminantAnalysis()</pre></div></div></div></div></div>"
            ],
            "text/plain": [
              "QuadraticDiscriminantAnalysis()"
            ]
          },
          "execution_count": 24,
          "metadata": {},
          "output_type": "execute_result"
        }
      ],
      "source": [
        "qda = QuadraticDiscriminantAnalysis()\n",
        "qda.fit(X_train, y_train) # training model on training dataset"
      ]
    },
    {
      "cell_type": "code",
      "execution_count": 25,
      "metadata": {
        "colab": {
          "base_uri": "https://localhost:8080/"
        },
        "id": "qeJNXcxjFrjS",
        "outputId": "ae8250e5-b4db-4aa7-a3af-7bf472ab6b39"
      },
      "outputs": [],
      "source": [
        "pkl_filename = \"./models/qda_binary.pkl\"\n",
        "if (not path.isfile(pkl_filename)):\n",
        "  # saving trained model to disk\n",
        "  with open(pkl_filename, 'wb') as file:\n",
        "    pickle.dump(qda, file)\n",
        "  print(\"Saved model to disk\")\n",
        "  # loading trained model from disk\n",
        "  with open(pkl_filename, 'rb') as file:\n",
        "    qda = pickle.load(file)\n",
        "  print(\"Loaded model from disk\")"
      ]
    },
    {
      "cell_type": "code",
      "execution_count": 26,
      "metadata": {
        "colab": {
          "base_uri": "https://localhost:8080/"
        },
        "id": "NJ2ja7JpvFUg",
        "outputId": "9f58e21d-939e-4a01-de0c-54dad8513022"
      },
      "outputs": [
        {
          "name": "stdout",
          "output_type": "stream",
          "text": [
            "QDA-Classifier Set-Accuracy is  70.89921889883787\n"
          ]
        }
      ],
      "source": [
        "y_pred = qda.predict(X_test) # predicting target attribute on testing dataset\n",
        "ac=accuracy_score(y_test, y_pred)*100  # calculating accuracy of predicted data\n",
        "print(\"QDA-Classifier Set-Accuracy is \", ac)"
      ]
    },
    {
      "cell_type": "code",
      "execution_count": 27,
      "metadata": {
        "colab": {
          "base_uri": "https://localhost:8080/"
        },
        "id": "0XYW6VI-vIQn",
        "outputId": "19ecb554-26f4-4178-ffd8-07010fed6a73"
      },
      "outputs": [
        {
          "name": "stdout",
          "output_type": "stream",
          "text": [
            "              precision    recall  f1-score   support\n",
            "\n",
            "    abnormal       1.00      0.38      0.55     14720\n",
            "      normal       0.65      1.00      0.79     16774\n",
            "\n",
            "    accuracy                           0.71     31494\n",
            "   macro avg       0.82      0.69      0.67     31494\n",
            "weighted avg       0.81      0.71      0.67     31494\n",
            "\n"
          ]
        }
      ],
      "source": [
        "# classification report\n",
        "print(classification_report(y_test, y_pred,target_names=le1_classes_))"
      ]
    },
    {
      "cell_type": "markdown",
      "metadata": {
        "id": "UcAd_oyaD4C6"
      },
      "source": [
        "# **Multi Layer Perceptron Classifier (Binary Classification)**"
      ]
    },
    {
      "cell_type": "code",
      "execution_count": 28,
      "metadata": {
        "id": "MXZbJB9HESF4"
      },
      "outputs": [],
      "source": [
        "from keras.layers import Dense # importing dense layer\n",
        "from keras.models import Sequential #importing Sequential layer\n",
        "from keras.models import model_from_json # saving and loading trained model"
      ]
    },
    {
      "cell_type": "code",
      "execution_count": 29,
      "metadata": {
        "id": "Imkkjtu_Fnzr"
      },
      "outputs": [],
      "source": [
        "X = bin_data.iloc[:,0:93].values # dataset excluding target attribute (encoded, one-hot-encoded,original)\n",
        "Y = bin_data[['intrusion']].values # target attribute"
      ]
    },
    {
      "cell_type": "code",
      "execution_count": 30,
      "metadata": {
        "id": "gNx0tOV7FwfO"
      },
      "outputs": [],
      "source": [
        "# splitting the dataset 75% for training and 25% testing\n",
        "X_train, X_test, y_train, y_test = train_test_split(X,Y, test_size=0.25, random_state=42)"
      ]
    },
    {
      "cell_type": "code",
      "execution_count": 31,
      "metadata": {
        "id": "9-5ChLnLEVqn"
      },
      "outputs": [],
      "source": [
        "mlp = Sequential() # creating model\n",
        "\n",
        "# adding input layer and first layer with 50 neurons\n",
        "mlp.add(Dense(units=50, input_dim=X_train.shape[1], activation='relu'))\n",
        "# output layer with sigmoid activation\n",
        "mlp.add(Dense(units=1,activation='sigmoid'))"
      ]
    },
    {
      "cell_type": "code",
      "execution_count": 32,
      "metadata": {
        "id": "9ttL9NnuEsvL"
      },
      "outputs": [],
      "source": [
        "# defining loss function, optimizer, metrics and then compiling model\n",
        "mlp.compile(loss='binary_crossentropy', optimizer='adam', metrics=['accuracy'])"
      ]
    },
    {
      "cell_type": "code",
      "execution_count": 33,
      "metadata": {
        "colab": {
          "base_uri": "https://localhost:8080/"
        },
        "id": "GBlm3w0EzM24",
        "outputId": "1cce1b08-2d2a-4b13-d5f1-eecf9733a618"
      },
      "outputs": [
        {
          "name": "stdout",
          "output_type": "stream",
          "text": [
            "Model: \"sequential\"\n",
            "_________________________________________________________________\n",
            " Layer (type)                Output Shape              Param #   \n",
            "=================================================================\n",
            " dense (Dense)               (None, 50)                4700      \n",
            "                                                                 \n",
            " dense_1 (Dense)             (None, 1)                 51        \n",
            "                                                                 \n",
            "=================================================================\n",
            "Total params: 4751 (18.56 KB)\n",
            "Trainable params: 4751 (18.56 KB)\n",
            "Non-trainable params: 0 (0.00 Byte)\n",
            "_________________________________________________________________\n"
          ]
        }
      ],
      "source": [
        "# summary of model layers\n",
        "mlp.summary()"
      ]
    },
    {
      "cell_type": "code",
      "execution_count": 34,
      "metadata": {
        "colab": {
          "base_uri": "https://localhost:8080/"
        },
        "id": "TeIHduwLEzec",
        "outputId": "5dcbc619-340b-42af-9357-6d6ad88f930f"
      },
      "outputs": [
        {
          "name": "stdout",
          "output_type": "stream",
          "text": [
            "Epoch 1/100\n",
            "16/16 [==============================] - 1s 15ms/step - loss: 0.5843 - accuracy: 0.7689 - val_loss: 0.4558 - val_accuracy: 0.9048\n",
            "Epoch 2/100\n",
            "16/16 [==============================] - 0s 5ms/step - loss: 0.3898 - accuracy: 0.9089 - val_loss: 0.3212 - val_accuracy: 0.9146\n",
            "Epoch 3/100\n",
            "16/16 [==============================] - 0s 5ms/step - loss: 0.2853 - accuracy: 0.9143 - val_loss: 0.2475 - val_accuracy: 0.9181\n",
            "Epoch 4/100\n",
            "16/16 [==============================] - 0s 5ms/step - loss: 0.2263 - accuracy: 0.9184 - val_loss: 0.2045 - val_accuracy: 0.9300\n",
            "Epoch 5/100\n",
            "16/16 [==============================] - 0s 6ms/step - loss: 0.1905 - accuracy: 0.9375 - val_loss: 0.1773 - val_accuracy: 0.9479\n",
            "Epoch 6/100\n",
            "16/16 [==============================] - 0s 7ms/step - loss: 0.1668 - accuracy: 0.9517 - val_loss: 0.1588 - val_accuracy: 0.9563\n",
            "Epoch 7/100\n",
            "16/16 [==============================] - 0s 7ms/step - loss: 0.1504 - accuracy: 0.9586 - val_loss: 0.1458 - val_accuracy: 0.9605\n",
            "Epoch 8/100\n",
            "16/16 [==============================] - 0s 6ms/step - loss: 0.1389 - accuracy: 0.9617 - val_loss: 0.1363 - val_accuracy: 0.9623\n",
            "Epoch 9/100\n",
            "16/16 [==============================] - 0s 5ms/step - loss: 0.1304 - accuracy: 0.9634 - val_loss: 0.1292 - val_accuracy: 0.9641\n",
            "Epoch 10/100\n",
            "16/16 [==============================] - 0s 5ms/step - loss: 0.1239 - accuracy: 0.9656 - val_loss: 0.1235 - val_accuracy: 0.9665\n",
            "Epoch 11/100\n",
            "16/16 [==============================] - 0s 5ms/step - loss: 0.1187 - accuracy: 0.9674 - val_loss: 0.1189 - val_accuracy: 0.9684\n",
            "Epoch 12/100\n",
            "16/16 [==============================] - 0s 5ms/step - loss: 0.1143 - accuracy: 0.9685 - val_loss: 0.1149 - val_accuracy: 0.9688\n",
            "Epoch 13/100\n",
            "16/16 [==============================] - 0s 5ms/step - loss: 0.1106 - accuracy: 0.9691 - val_loss: 0.1114 - val_accuracy: 0.9691\n",
            "Epoch 14/100\n",
            "16/16 [==============================] - 0s 6ms/step - loss: 0.1073 - accuracy: 0.9696 - val_loss: 0.1082 - val_accuracy: 0.9695\n",
            "Epoch 15/100\n",
            "16/16 [==============================] - 0s 6ms/step - loss: 0.1043 - accuracy: 0.9699 - val_loss: 0.1053 - val_accuracy: 0.9694\n",
            "Epoch 16/100\n",
            "16/16 [==============================] - 0s 7ms/step - loss: 0.1016 - accuracy: 0.9700 - val_loss: 0.1027 - val_accuracy: 0.9694\n",
            "Epoch 17/100\n",
            "16/16 [==============================] - 0s 9ms/step - loss: 0.0991 - accuracy: 0.9703 - val_loss: 0.1003 - val_accuracy: 0.9699\n",
            "Epoch 18/100\n",
            "16/16 [==============================] - 0s 7ms/step - loss: 0.0969 - accuracy: 0.9703 - val_loss: 0.0981 - val_accuracy: 0.9700\n",
            "Epoch 19/100\n",
            "16/16 [==============================] - 0s 7ms/step - loss: 0.0949 - accuracy: 0.9706 - val_loss: 0.0962 - val_accuracy: 0.9704\n",
            "Epoch 20/100\n",
            "16/16 [==============================] - 0s 6ms/step - loss: 0.0930 - accuracy: 0.9711 - val_loss: 0.0943 - val_accuracy: 0.9707\n",
            "Epoch 21/100\n",
            "16/16 [==============================] - 0s 5ms/step - loss: 0.0913 - accuracy: 0.9715 - val_loss: 0.0926 - val_accuracy: 0.9709\n",
            "Epoch 22/100\n",
            "16/16 [==============================] - 0s 5ms/step - loss: 0.0897 - accuracy: 0.9716 - val_loss: 0.0910 - val_accuracy: 0.9710\n",
            "Epoch 23/100\n",
            "16/16 [==============================] - 0s 6ms/step - loss: 0.0882 - accuracy: 0.9717 - val_loss: 0.0896 - val_accuracy: 0.9710\n",
            "Epoch 24/100\n",
            "16/16 [==============================] - 0s 6ms/step - loss: 0.0869 - accuracy: 0.9719 - val_loss: 0.0882 - val_accuracy: 0.9712\n",
            "Epoch 25/100\n",
            "16/16 [==============================] - 0s 6ms/step - loss: 0.0856 - accuracy: 0.9720 - val_loss: 0.0870 - val_accuracy: 0.9705\n",
            "Epoch 26/100\n",
            "16/16 [==============================] - 0s 6ms/step - loss: 0.0844 - accuracy: 0.9719 - val_loss: 0.0858 - val_accuracy: 0.9707\n",
            "Epoch 27/100\n",
            "16/16 [==============================] - 0s 10ms/step - loss: 0.0833 - accuracy: 0.9719 - val_loss: 0.0847 - val_accuracy: 0.9704\n",
            "Epoch 28/100\n",
            "16/16 [==============================] - 0s 5ms/step - loss: 0.0823 - accuracy: 0.9720 - val_loss: 0.0838 - val_accuracy: 0.9704\n",
            "Epoch 29/100\n",
            "16/16 [==============================] - 0s 5ms/step - loss: 0.0814 - accuracy: 0.9719 - val_loss: 0.0829 - val_accuracy: 0.9705\n",
            "Epoch 30/100\n",
            "16/16 [==============================] - 0s 4ms/step - loss: 0.0806 - accuracy: 0.9720 - val_loss: 0.0821 - val_accuracy: 0.9706\n",
            "Epoch 31/100\n",
            "16/16 [==============================] - 0s 4ms/step - loss: 0.0798 - accuracy: 0.9719 - val_loss: 0.0814 - val_accuracy: 0.9705\n",
            "Epoch 32/100\n",
            "16/16 [==============================] - 0s 4ms/step - loss: 0.0790 - accuracy: 0.9720 - val_loss: 0.0807 - val_accuracy: 0.9706\n",
            "Epoch 33/100\n",
            "16/16 [==============================] - 0s 4ms/step - loss: 0.0783 - accuracy: 0.9721 - val_loss: 0.0800 - val_accuracy: 0.9706\n",
            "Epoch 34/100\n",
            "16/16 [==============================] - 0s 4ms/step - loss: 0.0777 - accuracy: 0.9721 - val_loss: 0.0794 - val_accuracy: 0.9706\n",
            "Epoch 35/100\n",
            "16/16 [==============================] - 0s 4ms/step - loss: 0.0770 - accuracy: 0.9726 - val_loss: 0.0787 - val_accuracy: 0.9708\n",
            "Epoch 36/100\n",
            "16/16 [==============================] - 0s 4ms/step - loss: 0.0765 - accuracy: 0.9728 - val_loss: 0.0782 - val_accuracy: 0.9717\n",
            "Epoch 37/100\n",
            "16/16 [==============================] - 0s 4ms/step - loss: 0.0759 - accuracy: 0.9737 - val_loss: 0.0776 - val_accuracy: 0.9724\n",
            "Epoch 38/100\n",
            "16/16 [==============================] - 0s 4ms/step - loss: 0.0754 - accuracy: 0.9741 - val_loss: 0.0771 - val_accuracy: 0.9727\n",
            "Epoch 39/100\n",
            "16/16 [==============================] - 0s 4ms/step - loss: 0.0748 - accuracy: 0.9743 - val_loss: 0.0766 - val_accuracy: 0.9727\n",
            "Epoch 40/100\n",
            "16/16 [==============================] - 0s 4ms/step - loss: 0.0743 - accuracy: 0.9744 - val_loss: 0.0762 - val_accuracy: 0.9731\n",
            "Epoch 41/100\n",
            "16/16 [==============================] - 0s 4ms/step - loss: 0.0739 - accuracy: 0.9744 - val_loss: 0.0758 - val_accuracy: 0.9734\n",
            "Epoch 42/100\n",
            "16/16 [==============================] - 0s 4ms/step - loss: 0.0735 - accuracy: 0.9748 - val_loss: 0.0754 - val_accuracy: 0.9735\n",
            "Epoch 43/100\n",
            "16/16 [==============================] - 0s 4ms/step - loss: 0.0731 - accuracy: 0.9750 - val_loss: 0.0751 - val_accuracy: 0.9736\n",
            "Epoch 44/100\n",
            "16/16 [==============================] - 0s 4ms/step - loss: 0.0727 - accuracy: 0.9747 - val_loss: 0.0747 - val_accuracy: 0.9738\n",
            "Epoch 45/100\n",
            "16/16 [==============================] - 0s 4ms/step - loss: 0.0724 - accuracy: 0.9752 - val_loss: 0.0743 - val_accuracy: 0.9739\n",
            "Epoch 46/100\n",
            "16/16 [==============================] - 0s 4ms/step - loss: 0.0720 - accuracy: 0.9753 - val_loss: 0.0740 - val_accuracy: 0.9740\n",
            "Epoch 47/100\n",
            "16/16 [==============================] - 0s 4ms/step - loss: 0.0717 - accuracy: 0.9756 - val_loss: 0.0737 - val_accuracy: 0.9740\n",
            "Epoch 48/100\n",
            "16/16 [==============================] - 0s 4ms/step - loss: 0.0714 - accuracy: 0.9756 - val_loss: 0.0734 - val_accuracy: 0.9747\n",
            "Epoch 49/100\n",
            "16/16 [==============================] - 0s 4ms/step - loss: 0.0710 - accuracy: 0.9764 - val_loss: 0.0732 - val_accuracy: 0.9745\n",
            "Epoch 50/100\n",
            "16/16 [==============================] - 0s 4ms/step - loss: 0.0708 - accuracy: 0.9758 - val_loss: 0.0729 - val_accuracy: 0.9747\n",
            "Epoch 51/100\n",
            "16/16 [==============================] - 0s 4ms/step - loss: 0.0705 - accuracy: 0.9766 - val_loss: 0.0726 - val_accuracy: 0.9748\n",
            "Epoch 52/100\n",
            "16/16 [==============================] - 0s 4ms/step - loss: 0.0702 - accuracy: 0.9764 - val_loss: 0.0724 - val_accuracy: 0.9748\n",
            "Epoch 53/100\n",
            "16/16 [==============================] - 0s 4ms/step - loss: 0.0699 - accuracy: 0.9768 - val_loss: 0.0721 - val_accuracy: 0.9750\n",
            "Epoch 54/100\n",
            "16/16 [==============================] - 0s 4ms/step - loss: 0.0697 - accuracy: 0.9768 - val_loss: 0.0719 - val_accuracy: 0.9747\n",
            "Epoch 55/100\n",
            "16/16 [==============================] - 0s 4ms/step - loss: 0.0694 - accuracy: 0.9766 - val_loss: 0.0717 - val_accuracy: 0.9747\n",
            "Epoch 56/100\n",
            "16/16 [==============================] - 0s 4ms/step - loss: 0.0692 - accuracy: 0.9770 - val_loss: 0.0714 - val_accuracy: 0.9750\n",
            "Epoch 57/100\n",
            "16/16 [==============================] - 0s 4ms/step - loss: 0.0690 - accuracy: 0.9772 - val_loss: 0.0712 - val_accuracy: 0.9754\n",
            "Epoch 58/100\n",
            "16/16 [==============================] - 0s 4ms/step - loss: 0.0687 - accuracy: 0.9773 - val_loss: 0.0711 - val_accuracy: 0.9753\n",
            "Epoch 59/100\n",
            "16/16 [==============================] - 0s 4ms/step - loss: 0.0685 - accuracy: 0.9774 - val_loss: 0.0708 - val_accuracy: 0.9757\n",
            "Epoch 60/100\n",
            "16/16 [==============================] - 0s 4ms/step - loss: 0.0683 - accuracy: 0.9773 - val_loss: 0.0707 - val_accuracy: 0.9757\n",
            "Epoch 61/100\n",
            "16/16 [==============================] - 0s 4ms/step - loss: 0.0681 - accuracy: 0.9775 - val_loss: 0.0705 - val_accuracy: 0.9754\n",
            "Epoch 62/100\n",
            "16/16 [==============================] - 0s 7ms/step - loss: 0.0679 - accuracy: 0.9774 - val_loss: 0.0703 - val_accuracy: 0.9759\n",
            "Epoch 63/100\n",
            "16/16 [==============================] - 0s 5ms/step - loss: 0.0677 - accuracy: 0.9775 - val_loss: 0.0701 - val_accuracy: 0.9759\n",
            "Epoch 64/100\n",
            "16/16 [==============================] - 0s 5ms/step - loss: 0.0676 - accuracy: 0.9776 - val_loss: 0.0699 - val_accuracy: 0.9759\n",
            "Epoch 65/100\n",
            "16/16 [==============================] - 0s 5ms/step - loss: 0.0674 - accuracy: 0.9777 - val_loss: 0.0698 - val_accuracy: 0.9759\n",
            "Epoch 66/100\n",
            "16/16 [==============================] - 0s 4ms/step - loss: 0.0672 - accuracy: 0.9778 - val_loss: 0.0697 - val_accuracy: 0.9760\n",
            "Epoch 67/100\n",
            "16/16 [==============================] - 0s 4ms/step - loss: 0.0670 - accuracy: 0.9778 - val_loss: 0.0696 - val_accuracy: 0.9759\n",
            "Epoch 68/100\n",
            "16/16 [==============================] - 0s 4ms/step - loss: 0.0669 - accuracy: 0.9777 - val_loss: 0.0694 - val_accuracy: 0.9758\n",
            "Epoch 69/100\n",
            "16/16 [==============================] - 0s 5ms/step - loss: 0.0667 - accuracy: 0.9777 - val_loss: 0.0692 - val_accuracy: 0.9757\n",
            "Epoch 70/100\n",
            "16/16 [==============================] - 0s 4ms/step - loss: 0.0665 - accuracy: 0.9777 - val_loss: 0.0691 - val_accuracy: 0.9757\n",
            "Epoch 71/100\n",
            "16/16 [==============================] - 0s 4ms/step - loss: 0.0664 - accuracy: 0.9777 - val_loss: 0.0690 - val_accuracy: 0.9757\n",
            "Epoch 72/100\n",
            "16/16 [==============================] - 0s 4ms/step - loss: 0.0662 - accuracy: 0.9778 - val_loss: 0.0688 - val_accuracy: 0.9757\n",
            "Epoch 73/100\n",
            "16/16 [==============================] - 0s 4ms/step - loss: 0.0661 - accuracy: 0.9779 - val_loss: 0.0687 - val_accuracy: 0.9757\n",
            "Epoch 74/100\n",
            "16/16 [==============================] - 0s 4ms/step - loss: 0.0659 - accuracy: 0.9779 - val_loss: 0.0685 - val_accuracy: 0.9758\n",
            "Epoch 75/100\n",
            "16/16 [==============================] - 0s 5ms/step - loss: 0.0658 - accuracy: 0.9778 - val_loss: 0.0685 - val_accuracy: 0.9758\n",
            "Epoch 76/100\n",
            "16/16 [==============================] - 0s 4ms/step - loss: 0.0656 - accuracy: 0.9779 - val_loss: 0.0682 - val_accuracy: 0.9758\n",
            "Epoch 77/100\n",
            "16/16 [==============================] - 0s 4ms/step - loss: 0.0655 - accuracy: 0.9779 - val_loss: 0.0681 - val_accuracy: 0.9761\n",
            "Epoch 78/100\n",
            "16/16 [==============================] - 0s 4ms/step - loss: 0.0653 - accuracy: 0.9780 - val_loss: 0.0680 - val_accuracy: 0.9761\n",
            "Epoch 79/100\n",
            "16/16 [==============================] - 0s 4ms/step - loss: 0.0652 - accuracy: 0.9782 - val_loss: 0.0679 - val_accuracy: 0.9761\n",
            "Epoch 80/100\n",
            "16/16 [==============================] - 0s 4ms/step - loss: 0.0651 - accuracy: 0.9781 - val_loss: 0.0677 - val_accuracy: 0.9761\n",
            "Epoch 81/100\n",
            "16/16 [==============================] - 0s 4ms/step - loss: 0.0649 - accuracy: 0.9781 - val_loss: 0.0676 - val_accuracy: 0.9761\n",
            "Epoch 82/100\n",
            "16/16 [==============================] - 0s 4ms/step - loss: 0.0648 - accuracy: 0.9781 - val_loss: 0.0675 - val_accuracy: 0.9761\n",
            "Epoch 83/100\n",
            "16/16 [==============================] - 0s 4ms/step - loss: 0.0647 - accuracy: 0.9781 - val_loss: 0.0674 - val_accuracy: 0.9760\n",
            "Epoch 84/100\n",
            "16/16 [==============================] - 0s 4ms/step - loss: 0.0646 - accuracy: 0.9781 - val_loss: 0.0673 - val_accuracy: 0.9759\n",
            "Epoch 85/100\n",
            "16/16 [==============================] - 0s 4ms/step - loss: 0.0645 - accuracy: 0.9784 - val_loss: 0.0672 - val_accuracy: 0.9761\n",
            "Epoch 86/100\n",
            "16/16 [==============================] - 0s 4ms/step - loss: 0.0643 - accuracy: 0.9782 - val_loss: 0.0671 - val_accuracy: 0.9762\n",
            "Epoch 87/100\n",
            "16/16 [==============================] - 0s 4ms/step - loss: 0.0642 - accuracy: 0.9783 - val_loss: 0.0670 - val_accuracy: 0.9760\n",
            "Epoch 88/100\n",
            "16/16 [==============================] - 0s 4ms/step - loss: 0.0641 - accuracy: 0.9783 - val_loss: 0.0668 - val_accuracy: 0.9761\n",
            "Epoch 89/100\n",
            "16/16 [==============================] - 0s 8ms/step - loss: 0.0639 - accuracy: 0.9784 - val_loss: 0.0668 - val_accuracy: 0.9761\n",
            "Epoch 90/100\n",
            "16/16 [==============================] - 0s 5ms/step - loss: 0.0638 - accuracy: 0.9785 - val_loss: 0.0667 - val_accuracy: 0.9762\n",
            "Epoch 91/100\n",
            "16/16 [==============================] - 0s 5ms/step - loss: 0.0637 - accuracy: 0.9785 - val_loss: 0.0666 - val_accuracy: 0.9763\n",
            "Epoch 92/100\n",
            "16/16 [==============================] - 0s 5ms/step - loss: 0.0636 - accuracy: 0.9784 - val_loss: 0.0665 - val_accuracy: 0.9764\n",
            "Epoch 93/100\n",
            "16/16 [==============================] - 0s 4ms/step - loss: 0.0635 - accuracy: 0.9786 - val_loss: 0.0663 - val_accuracy: 0.9764\n",
            "Epoch 94/100\n",
            "16/16 [==============================] - 0s 4ms/step - loss: 0.0634 - accuracy: 0.9785 - val_loss: 0.0662 - val_accuracy: 0.9765\n",
            "Epoch 95/100\n",
            "16/16 [==============================] - 0s 4ms/step - loss: 0.0633 - accuracy: 0.9786 - val_loss: 0.0662 - val_accuracy: 0.9766\n",
            "Epoch 96/100\n",
            "16/16 [==============================] - 0s 4ms/step - loss: 0.0632 - accuracy: 0.9786 - val_loss: 0.0661 - val_accuracy: 0.9763\n",
            "Epoch 97/100\n",
            "16/16 [==============================] - 0s 4ms/step - loss: 0.0631 - accuracy: 0.9786 - val_loss: 0.0659 - val_accuracy: 0.9765\n",
            "Epoch 98/100\n",
            "16/16 [==============================] - 0s 4ms/step - loss: 0.0630 - accuracy: 0.9787 - val_loss: 0.0658 - val_accuracy: 0.9767\n",
            "Epoch 99/100\n",
            "16/16 [==============================] - 0s 4ms/step - loss: 0.0629 - accuracy: 0.9787 - val_loss: 0.0658 - val_accuracy: 0.9766\n",
            "Epoch 100/100\n",
            "16/16 [==============================] - 0s 4ms/step - loss: 0.0628 - accuracy: 0.9787 - val_loss: 0.0656 - val_accuracy: 0.9766\n"
          ]
        }
      ],
      "source": [
        "# training the model on training dataset\n",
        "history = mlp.fit(X_train, y_train, epochs=100, batch_size=5000,validation_split=0.2)"
      ]
    },
    {
      "cell_type": "code",
      "execution_count": 35,
      "metadata": {
        "colab": {
          "base_uri": "https://localhost:8080/"
        },
        "id": "Nn4cYSDKx1-o",
        "outputId": "dfdbefc7-758e-4837-9371-ad18e8408a18"
      },
      "outputs": [],
      "source": [
        "filepath = './models/mlp_binary.json'\n",
        "weightspath = './weights/mlp_binary.h5'\n",
        "if (not path.isfile(filepath)):\n",
        "  # serialize model to JSON\n",
        "  mlp_json = mlp.to_json()\n",
        "  with open(filepath, \"w\") as json_file:\n",
        "    json_file.write(mlp_json)\n",
        "\n",
        "  # serialize weights to HDF5\n",
        "  mlp.save_weights(weightspath)\n",
        "  print(\"Saved model to disk\")\n",
        "\n",
        "  # load json and create model\n",
        "  json_file = open(filepath, 'r')\n",
        "  loaded_model_json = json_file.read()\n",
        "  json_file.close()\n",
        "  mlp = model_from_json(loaded_model_json)\n",
        "\n",
        "  # load weights into new model\n",
        "  mlp.load_weights(weightspath)\n",
        "  print(\"Loaded model from disk\")"
      ]
    },
    {
      "cell_type": "code",
      "execution_count": 36,
      "metadata": {
        "id": "HRCboXxT04NZ"
      },
      "outputs": [],
      "source": [
        "# defining loss function, optimizer, metrics and then compiling model\n",
        "mlp.compile(loss='binary_crossentropy', optimizer='adam', metrics=['accuracy'])"
      ]
    },
    {
      "cell_type": "code",
      "execution_count": 37,
      "metadata": {
        "colab": {
          "base_uri": "https://localhost:8080/"
        },
        "id": "XYkgc0V6E2Cy",
        "outputId": "7b2d37c6-95c3-45e4-fc8e-9ff0ed63faea"
      },
      "outputs": [
        {
          "name": "stdout",
          "output_type": "stream",
          "text": [
            "985/985 [==============================] - 1s 529us/step - loss: 0.0637 - accuracy: 0.9782\n",
            "Test results - Loss: 0.06370073556900024 - Accuracy: 97.82180786132812\n"
          ]
        }
      ],
      "source": [
        "# predicting target attribute on testing dataset\n",
        "test_results = mlp.evaluate(X_test, y_test, verbose=1)\n",
        "print(f'Test results - Loss: {test_results[0]} - Accuracy: {test_results[1]*100}')"
      ]
    },
    {
      "cell_type": "code",
      "execution_count": 39,
      "metadata": {
        "colab": {
          "base_uri": "https://localhost:8080/",
          "height": 295
        },
        "id": "8t6-ytIJE7th",
        "outputId": "9a8c68d0-8e6f-4a6c-c2a7-381cfcad4f85"
      },
      "outputs": [
        {
          "data": {
            "image/png": "[encoded data removed]",
            "text/plain": [
              "<Figure size 640x480 with 1 Axes>"
            ]
          },
          "metadata": {},
          "output_type": "display_data"
        }
      ],
      "source": [
        "# Plot of accuracy vs epoch of train and test dataset\n",
        "plt.plot(history.history['accuracy'])\n",
        "plt.plot(history.history['val_accuracy'])\n",
        "plt.title(\"Plot of accuracy vs epoch for train and test dataset\")\n",
        "plt.ylabel('accuracy')\n",
        "plt.xlabel('epoch')\n",
        "plt.legend(['train', 'test'], loc='best')\n",
        "plt.savefig('plots/mlp_binary_accuracy.png')\n",
        "plt.show()"
      ]
    },
    {
      "cell_type": "code",
      "execution_count": 40,
      "metadata": {
        "colab": {
          "base_uri": "https://localhost:8080/",
          "height": 295
        },
        "id": "hun0u-pxE_q1",
        "outputId": "7d09e9d0-d89c-4413-bda3-1c37d71cb83f"
      },
      "outputs": [
        {
          "data": {
            "image/png": "[encoded data removed]",
            "text/plain": [
              "<Figure size 640x480 with 1 Axes>"
            ]
          },
          "metadata": {},
          "output_type": "display_data"
        }
      ],
      "source": [
        "# Plot of loss vs epoch of train and test dataset\n",
        "plt.plot(history.history['loss'])\n",
        "plt.plot(history.history['val_loss'])\n",
        "plt.title('Plot of loss vs epoch for train and test dataset')\n",
        "plt.ylabel('loss')\n",
        "plt.xlabel('epoch')\n",
        "plt.legend(['train', 'test'], loc='best')\n",
        "plt.savefig('plots/mlp_binary_loss.png')\n",
        "plt.show()"
      ]
    },
    {
      "cell_type": "code",
      "execution_count": 42,
      "metadata": {},
      "outputs": [
        {
          "name": "stdout",
          "output_type": "stream",
          "text": [
            "Collecting pydot\n",
            "  Downloading pydot-2.0.0-py3-none-any.whl.metadata (9.6 kB)\n",
            "Requirement already satisfied: pyparsing>=3 in /Library/Frameworks/Python.framework/Versions/3.11/lib/python3.11/site-packages (from pydot) (3.1.1)\n",
            "Downloading pydot-2.0.0-py3-none-any.whl (22 kB)\n",
            "Installing collected packages: pydot\n",
            "Successfully installed pydot-2.0.0\n",
            "\n",
            "\u001b[1m[\u001b[0m\u001b[34;49mnotice\u001b[0m\u001b[1;39;49m]\u001b[0m\u001b[39;49m A new release of pip is available: \u001b[0m\u001b[31;49m23.3.1\u001b[0m\u001b[39;49m -> \u001b[0m\u001b[32;49m24.0\u001b[0m\n",
            "\u001b[1m[\u001b[0m\u001b[34;49mnotice\u001b[0m\u001b[1;39;49m]\u001b[0m\u001b[39;49m To update, run: \u001b[0m\u001b[32;49mpip3 install --upgrade pip\u001b[0m\n",
            "Note: you may need to restart the kernel to use updated packages.\n"
          ]
        }
      ],
      "source": [
        "%pip install pydot"
      ]
    },
    {
      "cell_type": "code",
      "execution_count": 44,
      "metadata": {
        "colab": {
          "base_uri": "https://localhost:8080/",
          "height": 312
        },
        "id": "BFiX0p1dy4BB",
        "outputId": "96fe5d29-dc47-4ae7-ffaa-001fa9b932fe"
      },
      "outputs": [
        {
          "name": "stdout",
          "output_type": "stream",
          "text": [
            "You must install pydot (`pip install pydot`) and install graphviz (see instructions at https://graphviz.gitlab.io/download/) for plot_model to work.\n"
          ]
        }
      ],
      "source": [
        "# representation of model layers\n",
        "from keras.utils import plot_model\n",
        "plot_model(mlp, to_file='plots/mlp_binary.png', show_shapes=True,)"
      ]
    },
    {
      "cell_type": "markdown",
      "metadata": {
        "id": "ZOUNj1J8Hhzo"
      },
      "source": [
        "# **Long Short-Term Memory Classifier (Binary Classification)**"
      ]
    },
    {
      "cell_type": "code",
      "execution_count": null,
      "metadata": {
        "id": "7Twh09eaIMIs"
      },
      "outputs": [],
      "source": [
        "# importing library for LSTM layers\n",
        "from keras.layers import LSTM"
      ]
    },
    {
      "cell_type": "code",
      "execution_count": null,
      "metadata": {
        "id": "0NuShoBumsdn"
      },
      "outputs": [],
      "source": [
        "X = bin_data.iloc[:,0:93] # dataset excluding target attribute (encoded, one-hot-encoded,original)\n",
        "Y = bin_data[['intrusion']].values # target attribute"
      ]
    },
    {
      "cell_type": "code",
      "execution_count": null,
      "metadata": {
        "id": "rlH9mkLimrYW"
      },
      "outputs": [],
      "source": [
        "# splitting the dataset 75% for training and 25% testing\n",
        "X_train, X_test, y_train, y_test = train_test_split(X,Y, test_size=0.25, random_state=42)"
      ]
    },
    {
      "cell_type": "code",
      "execution_count": null,
      "metadata": {
        "id": "15q5ptxAIWGt"
      },
      "outputs": [],
      "source": [
        "X_train = X_train.to_numpy()"
      ]
    },
    {
      "cell_type": "code",
      "execution_count": null,
      "metadata": {
        "id": "nJA6scawIW6U"
      },
      "outputs": [],
      "source": [
        "x_train = np.reshape(X_train, (X_train.shape[0],X_train.shape[1],1))"
      ]
    },
    {
      "cell_type": "code",
      "execution_count": null,
      "metadata": {
        "id": "o8piatdjHo4w"
      },
      "outputs": [],
      "source": [
        "lst = Sequential() # initializing model\n",
        "\n",
        "# input layer and LSTM layer with 50 neurons\n",
        "lst.add(LSTM(units=50, return_sequences=True, input_shape=(x_train.shape[1],1)))\n",
        "# outpute layer with sigmoid activation\n",
        "lst.add(Dense(1, activation='sigmoid'))"
      ]
    },
    {
      "cell_type": "code",
      "execution_count": null,
      "metadata": {
        "id": "6ekKF6NFH_Iw"
      },
      "outputs": [],
      "source": [
        "# defining loss function, optimizer, metrics and then compiling model\n",
        "lst.compile(loss='binary_crossentropy',optimizer='adam',metrics=['accuracy'])"
      ]
    },
    {
      "cell_type": "code",
      "execution_count": null,
      "metadata": {
        "colab": {
          "base_uri": "https://localhost:8080/"
        },
        "id": "nXF6pt7JlKxO",
        "outputId": "ec196c0a-72bf-4cc0-b8a3-95feff47cdb9"
      },
      "outputs": [
        {
          "name": "stdout",
          "output_type": "stream",
          "text": [
            "Model: \"sequential_1\"\n",
            "_________________________________________________________________\n",
            "Layer (type)                 Output Shape              Param #   \n",
            "=================================================================\n",
            "lstm_1 (LSTM)                (None, 93, 50)            10400     \n",
            "_________________________________________________________________\n",
            "dense_1 (Dense)              (None, 93, 1)             51        \n",
            "=================================================================\n",
            "Total params: 10,451\n",
            "Trainable params: 10,451\n",
            "Non-trainable params: 0\n",
            "_________________________________________________________________\n"
          ]
        }
      ],
      "source": [
        "# summary of model layers\n",
        "lst.summary()"
      ]
    },
    {
      "cell_type": "code",
      "execution_count": null,
      "metadata": {
        "colab": {
          "base_uri": "https://localhost:8080/"
        },
        "id": "peataArRecpK",
        "outputId": "01a36ce0-163b-4ac3-c0bf-fd6c0c4a608b"
      },
      "outputs": [
        {
          "name": "stdout",
          "output_type": "stream",
          "text": [
            "Epoch 1/100\n",
            "16/16 [==============================] - 29s 2s/step - loss: 0.6915 - accuracy: 0.5119 - val_loss: 0.6863 - val_accuracy: 0.5798\n",
            "Epoch 2/100\n",
            "16/16 [==============================] - 26s 2s/step - loss: 0.6487 - accuracy: 0.6194 - val_loss: 0.4693 - val_accuracy: 0.8163\n",
            "Epoch 3/100\n",
            "16/16 [==============================] - 25s 2s/step - loss: 0.4611 - accuracy: 0.8119 - val_loss: 0.4278 - val_accuracy: 0.8231\n",
            "Epoch 4/100\n",
            "16/16 [==============================] - 25s 2s/step - loss: 0.4374 - accuracy: 0.8158 - val_loss: 0.4351 - val_accuracy: 0.8118\n",
            "Epoch 5/100\n",
            "16/16 [==============================] - 25s 2s/step - loss: 0.4359 - accuracy: 0.8105 - val_loss: 0.4117 - val_accuracy: 0.8281\n",
            "Epoch 6/100\n",
            "16/16 [==============================] - 25s 2s/step - loss: 0.4162 - accuracy: 0.8260 - val_loss: 0.4076 - val_accuracy: 0.8300\n",
            "Epoch 7/100\n",
            "16/16 [==============================] - 25s 2s/step - loss: 0.4156 - accuracy: 0.8265 - val_loss: 0.4064 - val_accuracy: 0.8305\n",
            "Epoch 8/100\n",
            "16/16 [==============================] - 26s 2s/step - loss: 0.4146 - accuracy: 0.8263 - val_loss: 0.4050 - val_accuracy: 0.8308\n",
            "Epoch 9/100\n",
            "16/16 [==============================] - 26s 2s/step - loss: 0.4108 - accuracy: 0.8274 - val_loss: 0.3915 - val_accuracy: 0.8318\n",
            "Epoch 10/100\n",
            "16/16 [==============================] - 25s 2s/step - loss: 0.3847 - accuracy: 0.8281 - val_loss: 0.3541 - val_accuracy: 0.8320\n",
            "Epoch 11/100\n",
            "16/16 [==============================] - 25s 2s/step - loss: 0.3520 - accuracy: 0.8276 - val_loss: 0.3428 - val_accuracy: 0.8321\n",
            "Epoch 12/100\n",
            "16/16 [==============================] - 25s 2s/step - loss: 0.3366 - accuracy: 0.8290 - val_loss: 0.3394 - val_accuracy: 0.7968\n",
            "Epoch 13/100\n",
            "16/16 [==============================] - 28s 2s/step - loss: 0.3318 - accuracy: 0.8095 - val_loss: 0.3101 - val_accuracy: 0.8496\n",
            "Epoch 14/100\n",
            "16/16 [==============================] - 28s 2s/step - loss: 0.3196 - accuracy: 0.8279 - val_loss: 0.3273 - val_accuracy: 0.7995\n",
            "Epoch 15/100\n",
            "16/16 [==============================] - 27s 2s/step - loss: 0.3397 - accuracy: 0.8185 - val_loss: 0.4559 - val_accuracy: 0.7544\n",
            "Epoch 16/100\n",
            "16/16 [==============================] - 28s 2s/step - loss: 0.4291 - accuracy: 0.7626 - val_loss: 0.3367 - val_accuracy: 0.8271\n",
            "Epoch 17/100\n",
            "16/16 [==============================] - 28s 2s/step - loss: 0.3351 - accuracy: 0.8235 - val_loss: 0.3342 - val_accuracy: 0.8301\n",
            "Epoch 18/100\n",
            "16/16 [==============================] - 28s 2s/step - loss: 0.3505 - accuracy: 0.8320 - val_loss: 0.3216 - val_accuracy: 0.8756\n",
            "Epoch 19/100\n",
            "16/16 [==============================] - 28s 2s/step - loss: 0.3276 - accuracy: 0.8794 - val_loss: 0.3200 - val_accuracy: 0.8839\n",
            "Epoch 20/100\n",
            "16/16 [==============================] - 27s 2s/step - loss: 0.3256 - accuracy: 0.8812 - val_loss: 0.3184 - val_accuracy: 0.8793\n",
            "Epoch 21/100\n",
            "16/16 [==============================] - 28s 2s/step - loss: 0.3191 - accuracy: 0.8837 - val_loss: 0.3162 - val_accuracy: 0.8825\n",
            "Epoch 22/100\n",
            "16/16 [==============================] - 27s 2s/step - loss: 0.3165 - accuracy: 0.8858 - val_loss: 0.3149 - val_accuracy: 0.8816\n",
            "Epoch 23/100\n",
            "16/16 [==============================] - 28s 2s/step - loss: 0.3180 - accuracy: 0.8831 - val_loss: 0.3072 - val_accuracy: 0.8826\n",
            "Epoch 24/100\n",
            "16/16 [==============================] - 28s 2s/step - loss: 0.3003 - accuracy: 0.8852 - val_loss: 0.2902 - val_accuracy: 0.8832\n",
            "Epoch 25/100\n",
            "16/16 [==============================] - 27s 2s/step - loss: 0.2899 - accuracy: 0.8854 - val_loss: 0.2931 - val_accuracy: 0.8835\n",
            "Epoch 26/100\n",
            "16/16 [==============================] - 28s 2s/step - loss: 0.2885 - accuracy: 0.8863 - val_loss: 0.2903 - val_accuracy: 0.8821\n",
            "Epoch 27/100\n",
            "16/16 [==============================] - 28s 2s/step - loss: 0.2930 - accuracy: 0.8796 - val_loss: 0.3103 - val_accuracy: 0.8819\n",
            "Epoch 28/100\n",
            "16/16 [==============================] - 27s 2s/step - loss: 0.3068 - accuracy: 0.8831 - val_loss: 0.3127 - val_accuracy: 0.8631\n",
            "Epoch 29/100\n",
            "16/16 [==============================] - 28s 2s/step - loss: 0.3103 - accuracy: 0.8656 - val_loss: 0.3079 - val_accuracy: 0.8703\n",
            "Epoch 30/100\n",
            "16/16 [==============================] - 28s 2s/step - loss: 0.3017 - accuracy: 0.8773 - val_loss: 0.2905 - val_accuracy: 0.8810\n",
            "Epoch 31/100\n",
            "16/16 [==============================] - 27s 2s/step - loss: 0.2882 - accuracy: 0.8847 - val_loss: 0.2871 - val_accuracy: 0.8835\n",
            "Epoch 32/100\n",
            "16/16 [==============================] - 27s 2s/step - loss: 0.2965 - accuracy: 0.8828 - val_loss: 0.3060 - val_accuracy: 0.8759\n",
            "Epoch 33/100\n",
            "16/16 [==============================] - 27s 2s/step - loss: 0.2952 - accuracy: 0.8820 - val_loss: 0.3054 - val_accuracy: 0.8842\n",
            "Epoch 34/100\n",
            "16/16 [==============================] - 27s 2s/step - loss: 0.3048 - accuracy: 0.8842 - val_loss: 0.2881 - val_accuracy: 0.8813\n",
            "Epoch 35/100\n",
            "16/16 [==============================] - 27s 2s/step - loss: 0.2847 - accuracy: 0.8854 - val_loss: 0.3601 - val_accuracy: 0.8413\n",
            "Epoch 36/100\n",
            "16/16 [==============================] - 27s 2s/step - loss: 0.4467 - accuracy: 0.8329 - val_loss: 0.4251 - val_accuracy: 0.8320\n",
            "Epoch 37/100\n",
            "16/16 [==============================] - 27s 2s/step - loss: 0.4209 - accuracy: 0.8290 - val_loss: 0.3997 - val_accuracy: 0.8348\n",
            "Epoch 38/100\n",
            "16/16 [==============================] - 27s 2s/step - loss: 0.4066 - accuracy: 0.8313 - val_loss: 0.3984 - val_accuracy: 0.8378\n",
            "Epoch 39/100\n",
            "16/16 [==============================] - 27s 2s/step - loss: 0.4023 - accuracy: 0.8357 - val_loss: 0.3921 - val_accuracy: 0.8411\n",
            "Epoch 40/100\n",
            "16/16 [==============================] - 27s 2s/step - loss: 0.3916 - accuracy: 0.8434 - val_loss: 0.3378 - val_accuracy: 0.8826\n",
            "Epoch 41/100\n",
            "16/16 [==============================] - 28s 2s/step - loss: 0.3374 - accuracy: 0.8813 - val_loss: 0.3244 - val_accuracy: 0.8781\n",
            "Epoch 42/100\n",
            "16/16 [==============================] - 27s 2s/step - loss: 0.3235 - accuracy: 0.8807 - val_loss: 0.3173 - val_accuracy: 0.8797\n",
            "Epoch 43/100\n",
            "16/16 [==============================] - 28s 2s/step - loss: 0.3186 - accuracy: 0.8822 - val_loss: 0.3149 - val_accuracy: 0.8834\n",
            "Epoch 44/100\n",
            "16/16 [==============================] - 27s 2s/step - loss: 0.3172 - accuracy: 0.8845 - val_loss: 0.3175 - val_accuracy: 0.8785\n",
            "Epoch 45/100\n",
            "16/16 [==============================] - 28s 2s/step - loss: 0.3201 - accuracy: 0.8790 - val_loss: 0.3171 - val_accuracy: 0.8769\n",
            "Epoch 46/100\n",
            "16/16 [==============================] - 28s 2s/step - loss: 0.3177 - accuracy: 0.8807 - val_loss: 0.3162 - val_accuracy: 0.8789\n",
            "Epoch 47/100\n",
            "16/16 [==============================] - 28s 2s/step - loss: 0.3188 - accuracy: 0.8804 - val_loss: 0.3153 - val_accuracy: 0.8795\n",
            "Epoch 48/100\n",
            "16/16 [==============================] - 28s 2s/step - loss: 0.3160 - accuracy: 0.8825 - val_loss: 0.3120 - val_accuracy: 0.8832\n",
            "Epoch 49/100\n",
            "16/16 [==============================] - 27s 2s/step - loss: 0.3154 - accuracy: 0.8832 - val_loss: 0.3090 - val_accuracy: 0.8838\n",
            "Epoch 50/100\n",
            "16/16 [==============================] - 27s 2s/step - loss: 0.3122 - accuracy: 0.8841 - val_loss: 0.2955 - val_accuracy: 0.8845\n",
            "Epoch 51/100\n",
            "16/16 [==============================] - 27s 2s/step - loss: 0.2942 - accuracy: 0.8856 - val_loss: 0.2884 - val_accuracy: 0.8855\n",
            "Epoch 52/100\n",
            "16/16 [==============================] - 27s 2s/step - loss: 0.2921 - accuracy: 0.8851 - val_loss: 0.2868 - val_accuracy: 0.8851\n",
            "Epoch 53/100\n",
            "16/16 [==============================] - 28s 2s/step - loss: 0.2879 - accuracy: 0.8854 - val_loss: 0.2825 - val_accuracy: 0.8865\n",
            "Epoch 54/100\n",
            "16/16 [==============================] - 28s 2s/step - loss: 0.2863 - accuracy: 0.8868 - val_loss: 0.2915 - val_accuracy: 0.8806\n",
            "Epoch 55/100\n",
            "16/16 [==============================] - 27s 2s/step - loss: 0.2924 - accuracy: 0.8824 - val_loss: 0.2905 - val_accuracy: 0.8864\n",
            "Epoch 56/100\n",
            "16/16 [==============================] - 27s 2s/step - loss: 0.2942 - accuracy: 0.8854 - val_loss: 0.3004 - val_accuracy: 0.8831\n",
            "Epoch 57/100\n",
            "16/16 [==============================] - 27s 2s/step - loss: 0.2946 - accuracy: 0.8868 - val_loss: 0.2938 - val_accuracy: 0.8857\n",
            "Epoch 58/100\n",
            "16/16 [==============================] - 28s 2s/step - loss: 0.3071 - accuracy: 0.8669 - val_loss: 0.3347 - val_accuracy: 0.8330\n",
            "Epoch 59/100\n",
            "16/16 [==============================] - 27s 2s/step - loss: 0.3307 - accuracy: 0.8297 - val_loss: 0.3176 - val_accuracy: 0.8336\n",
            "Epoch 60/100\n",
            "16/16 [==============================] - 27s 2s/step - loss: 0.3132 - accuracy: 0.8397 - val_loss: 0.3026 - val_accuracy: 0.8546\n",
            "Epoch 61/100\n",
            "16/16 [==============================] - 27s 2s/step - loss: 0.3144 - accuracy: 0.8382 - val_loss: 0.3056 - val_accuracy: 0.8400\n",
            "Epoch 62/100\n",
            "16/16 [==============================] - 27s 2s/step - loss: 0.3094 - accuracy: 0.8358 - val_loss: 0.3042 - val_accuracy: 0.8646\n",
            "Epoch 63/100\n",
            "16/16 [==============================] - 27s 2s/step - loss: 0.3036 - accuracy: 0.8599 - val_loss: 0.3266 - val_accuracy: 0.8117\n",
            "Epoch 64/100\n",
            "16/16 [==============================] - 27s 2s/step - loss: 0.3421 - accuracy: 0.8478 - val_loss: 0.4597 - val_accuracy: 0.8331\n",
            "Epoch 65/100\n",
            "16/16 [==============================] - 28s 2s/step - loss: 0.4486 - accuracy: 0.8279 - val_loss: 0.3927 - val_accuracy: 0.8376\n",
            "Epoch 66/100\n",
            "16/16 [==============================] - 28s 2s/step - loss: 0.4004 - accuracy: 0.8341 - val_loss: 0.3942 - val_accuracy: 0.8391\n",
            "Epoch 67/100\n",
            "16/16 [==============================] - 28s 2s/step - loss: 0.3977 - accuracy: 0.8362 - val_loss: 0.3895 - val_accuracy: 0.8391\n",
            "Epoch 68/100\n",
            "16/16 [==============================] - 28s 2s/step - loss: 0.3919 - accuracy: 0.8387 - val_loss: 0.3876 - val_accuracy: 0.8403\n",
            "Epoch 69/100\n",
            "16/16 [==============================] - 28s 2s/step - loss: 0.3932 - accuracy: 0.8375 - val_loss: 0.3836 - val_accuracy: 0.8432\n",
            "Epoch 70/100\n",
            "16/16 [==============================] - 27s 2s/step - loss: 0.3817 - accuracy: 0.8459 - val_loss: 0.3314 - val_accuracy: 0.8852\n",
            "Epoch 71/100\n",
            "16/16 [==============================] - 28s 2s/step - loss: 0.3256 - accuracy: 0.8852 - val_loss: 0.3098 - val_accuracy: 0.8832\n",
            "Epoch 72/100\n",
            "16/16 [==============================] - 28s 2s/step - loss: 0.3118 - accuracy: 0.8856 - val_loss: 0.3081 - val_accuracy: 0.8847\n",
            "Epoch 73/100\n",
            "16/16 [==============================] - 28s 2s/step - loss: 0.3109 - accuracy: 0.8868 - val_loss: 0.3085 - val_accuracy: 0.8930\n",
            "Epoch 74/100\n",
            "16/16 [==============================] - 27s 2s/step - loss: 0.3107 - accuracy: 0.8922 - val_loss: 0.3065 - val_accuracy: 0.8915\n",
            "Epoch 75/100\n",
            "16/16 [==============================] - 28s 2s/step - loss: 0.3068 - accuracy: 0.8934 - val_loss: 0.3087 - val_accuracy: 0.8898\n",
            "Epoch 76/100\n",
            "16/16 [==============================] - 28s 2s/step - loss: 0.3120 - accuracy: 0.8897 - val_loss: 0.3037 - val_accuracy: 0.8941\n",
            "Epoch 77/100\n",
            "16/16 [==============================] - 28s 2s/step - loss: 0.3087 - accuracy: 0.8920 - val_loss: 0.3064 - val_accuracy: 0.8899\n",
            "Epoch 78/100\n",
            "16/16 [==============================] - 28s 2s/step - loss: 0.3068 - accuracy: 0.8915 - val_loss: 0.3040 - val_accuracy: 0.8902\n",
            "Epoch 79/100\n",
            "16/16 [==============================] - 28s 2s/step - loss: 0.3031 - accuracy: 0.8927 - val_loss: 0.3025 - val_accuracy: 0.8902\n",
            "Epoch 80/100\n",
            "16/16 [==============================] - 28s 2s/step - loss: 0.2999 - accuracy: 0.8937 - val_loss: 0.3034 - val_accuracy: 0.8903\n",
            "Epoch 81/100\n",
            "16/16 [==============================] - 28s 2s/step - loss: 0.3049 - accuracy: 0.8913 - val_loss: 0.3029 - val_accuracy: 0.8915\n",
            "Epoch 82/100\n",
            "16/16 [==============================] - 28s 2s/step - loss: 0.3036 - accuracy: 0.8938 - val_loss: 0.3010 - val_accuracy: 0.8931\n",
            "Epoch 83/100\n",
            "16/16 [==============================] - 28s 2s/step - loss: 0.3037 - accuracy: 0.8939 - val_loss: 0.3009 - val_accuracy: 0.8943\n",
            "Epoch 84/100\n",
            "16/16 [==============================] - 28s 2s/step - loss: 0.3016 - accuracy: 0.8954 - val_loss: 0.3063 - val_accuracy: 0.8894\n",
            "Epoch 85/100\n",
            "16/16 [==============================] - 28s 2s/step - loss: 0.3048 - accuracy: 0.8921 - val_loss: 0.3038 - val_accuracy: 0.8913\n",
            "Epoch 86/100\n",
            "16/16 [==============================] - 28s 2s/step - loss: 0.3052 - accuracy: 0.8931 - val_loss: 0.3022 - val_accuracy: 0.8924\n",
            "Epoch 87/100\n",
            "16/16 [==============================] - 27s 2s/step - loss: 0.3035 - accuracy: 0.8936 - val_loss: 0.3010 - val_accuracy: 0.8918\n",
            "Epoch 88/100\n",
            "16/16 [==============================] - 28s 2s/step - loss: 0.3043 - accuracy: 0.8922 - val_loss: 0.3011 - val_accuracy: 0.8918\n",
            "Epoch 89/100\n",
            "16/16 [==============================] - 28s 2s/step - loss: 0.3002 - accuracy: 0.8938 - val_loss: 0.3038 - val_accuracy: 0.8882\n",
            "Epoch 90/100\n",
            "16/16 [==============================] - 28s 2s/step - loss: 0.3103 - accuracy: 0.8829 - val_loss: 0.3093 - val_accuracy: 0.8597\n",
            "Epoch 91/100\n",
            "16/16 [==============================] - 28s 2s/step - loss: 0.2955 - accuracy: 0.8646 - val_loss: 0.2801 - val_accuracy: 0.8839\n",
            "Epoch 92/100\n",
            "16/16 [==============================] - 28s 2s/step - loss: 0.2940 - accuracy: 0.8744 - val_loss: 0.2826 - val_accuracy: 0.8840\n",
            "Epoch 93/100\n",
            "16/16 [==============================] - 28s 2s/step - loss: 0.2805 - accuracy: 0.8809 - val_loss: 0.2775 - val_accuracy: 0.8902\n",
            "Epoch 94/100\n",
            "16/16 [==============================] - 28s 2s/step - loss: 0.2936 - accuracy: 0.8532 - val_loss: 0.2942 - val_accuracy: 0.8324\n",
            "Epoch 95/100\n",
            "16/16 [==============================] - 28s 2s/step - loss: 0.2961 - accuracy: 0.8536 - val_loss: 0.2924 - val_accuracy: 0.8628\n",
            "Epoch 96/100\n",
            "16/16 [==============================] - 28s 2s/step - loss: 0.2904 - accuracy: 0.8689 - val_loss: 0.2958 - val_accuracy: 0.8560\n",
            "Epoch 97/100\n",
            "16/16 [==============================] - 28s 2s/step - loss: 0.2973 - accuracy: 0.8569 - val_loss: 0.2927 - val_accuracy: 0.8688\n",
            "Epoch 98/100\n",
            "16/16 [==============================] - 28s 2s/step - loss: 0.3022 - accuracy: 0.8584 - val_loss: 0.3277 - val_accuracy: 0.7922\n",
            "Epoch 99/100\n",
            "16/16 [==============================] - 28s 2s/step - loss: 0.3227 - accuracy: 0.8049 - val_loss: 0.3113 - val_accuracy: 0.8344\n",
            "Epoch 100/100\n",
            "16/16 [==============================] - 28s 2s/step - loss: 0.3115 - accuracy: 0.8293 - val_loss: 0.3079 - val_accuracy: 0.8341\n"
          ]
        }
      ],
      "source": [
        "# training the model on training dataset\n",
        "history = lst.fit(x_train, y_train, epochs=100, batch_size=5000,validation_split=0.2)"
      ]
    },
    {
      "cell_type": "code",
      "execution_count": null,
      "metadata": {
        "id": "F7RKBuhZpM1s"
      },
      "outputs": [],
      "source": [
        "x_test = np.reshape(X_test, (X_test.shape[0],X_test.shape[1],1))"
      ]
    },
    {
      "cell_type": "code",
      "execution_count": null,
      "metadata": {
        "colab": {
          "base_uri": "https://localhost:8080/"
        },
        "id": "wEvPvD0N1BoA",
        "outputId": "6ee7d239-4426-466c-92b4-5855b5227099"
      },
      "outputs": [
        {
          "name": "stdout",
          "output_type": "stream",
          "text": [
            "Saved model to disk\n",
            "Loaded model from disk\n"
          ]
        }
      ],
      "source": [
        "filepath = './models/lst_binary.json'\n",
        "weightspath = './weights/lst_binary.h5'\n",
        "if (not path.isfile(filepath)):\n",
        "  # serialize model to JSON\n",
        "  lst_json = lst.to_json()\n",
        "  with open(filepath, \"w\") as json_file:\n",
        "    json_file.write(lst_json)\n",
        "\n",
        "  # serialize weights to HDF5\n",
        "  lst.save_weights(weightspath)\n",
        "  print(\"Saved model to disk\")\n",
        "\n",
        "  # load json and create model\n",
        "  json_file = open(filepath, 'r')\n",
        "  loaded_model_json = json_file.read()\n",
        "  json_file.close()\n",
        "  lst = model_from_json(loaded_model_json)\n",
        "\n",
        "  # load weights into new model\n",
        "  lst.load_weights(weightspath)\n",
        "  print(\"Loaded model from disk\")"
      ]
    },
    {
      "cell_type": "code",
      "execution_count": null,
      "metadata": {
        "id": "ElLuZrYc1PCC"
      },
      "outputs": [],
      "source": [
        "# defining loss function, optimizer, metrics and then compiling model\n",
        "lst.compile(loss='binary_crossentropy',optimizer='adam',metrics=['accuracy'])"
      ]
    },
    {
      "cell_type": "code",
      "execution_count": null,
      "metadata": {
        "colab": {
          "base_uri": "https://localhost:8080/"
        },
        "id": "h0x7huDdpA0q",
        "outputId": "8c0a8451-9056-454b-aec4-2f51f0adfcb5"
      },
      "outputs": [
        {
          "name": "stdout",
          "output_type": "stream",
          "text": [
            "985/985 [==============================] - 10s 10ms/step - loss: 0.3087 - accuracy: 0.8306\n",
            "Test results - Loss: 0.3086586892604828 - Accuracy: 83.05730819702148%\n"
          ]
        }
      ],
      "source": [
        "# predicting target attribute on testing dataset\n",
        "test_results = lst.evaluate(x_test, y_test, verbose=1)\n",
        "print(f'Test results - Loss: {test_results[0]} - Accuracy: {test_results[1]*100}%')"
      ]
    },
    {
      "cell_type": "code",
      "execution_count": null,
      "metadata": {
        "colab": {
          "base_uri": "https://localhost:8080/",
          "height": 295
        },
        "id": "pJfKAHM0Ndpv",
        "outputId": "da1a6431-632a-4f6a-ce17-f93123f7dad9"
      },
      "outputs": [
        {
          "data": {
            "image/png": "[encoded data removed]",
            "text/plain": [
              "<Figure size 432x288 with 1 Axes>"
            ]
          },
          "metadata": {
            "needs_background": "light",
            "tags": []
          },
          "output_type": "display_data"
        }
      ],
      "source": [
        "# Plot of accuracy vs epoch of train and test dataset\n",
        "plt.plot(history.history['accuracy'])\n",
        "plt.plot(history.history['val_accuracy'])\n",
        "plt.title(\"Plot of accuracy vs epoch for train and test dataset\")\n",
        "plt.ylabel('accuracy')\n",
        "plt.xlabel('epoch')\n",
        "plt.legend(['train', 'test'], loc='best')\n",
        "plt.savefig('plots/lstm_binary_accuracy.png')\n",
        "plt.show()"
      ]
    },
    {
      "cell_type": "code",
      "execution_count": null,
      "metadata": {
        "colab": {
          "base_uri": "https://localhost:8080/",
          "height": 295
        },
        "id": "kd0qPmceNdAr",
        "outputId": "98ecf942-e282-4d63-9d15-af43d4bff193"
      },
      "outputs": [
        {
          "data": {
            "image/png": "[encoded data removed]",
            "text/plain": [
              "<Figure size 432x288 with 1 Axes>"
            ]
          },
          "metadata": {
            "needs_background": "light",
            "tags": []
          },
          "output_type": "display_data"
        }
      ],
      "source": [
        "# Plot of loss vs epoch of train and test dataset\n",
        "plt.plot(history.history['loss'])\n",
        "plt.plot(history.history['val_loss'])\n",
        "plt.title(\"Plot of loss vs epoch for train and test dataset\")\n",
        "plt.ylabel('loss')\n",
        "plt.xlabel('epoch')\n",
        "plt.legend(['train', 'test'], loc='best')\n",
        "plt.savefig('plots/lstm_binary_loss.png')\n",
        "plt.show()"
      ]
    },
    {
      "cell_type": "code",
      "execution_count": null,
      "metadata": {
        "colab": {
          "base_uri": "https://localhost:8080/",
          "height": 312
        },
        "id": "RULmRxZ5zkkF",
        "outputId": "f8da3e6d-77d1-46ff-8808-aebc0a57c853"
      },
      "outputs": [
        {
          "data": {
            "image/png": "[encoded data removed]",
            "text/plain": [
              "<IPython.core.display.Image object>"
            ]
          },
          "execution_count": 152,
          "metadata": {
            "tags": []
          },
          "output_type": "execute_result"
        }
      ],
      "source": [
        "# representation of model layers\n",
        "plot_model(lst, to_file='plots/lstm_binary.png', show_shapes=True,)"
      ]
    },
    {
      "cell_type": "markdown",
      "metadata": {
        "id": "A2mFGsLLkzvr"
      },
      "source": [
        "# **Auto Encoder Classifier (Binary Classification)**"
      ]
    },
    {
      "cell_type": "code",
      "execution_count": null,
      "metadata": {
        "id": "Jteo7lYCC9eV"
      },
      "outputs": [],
      "source": [
        "from keras.layers import Input\n",
        "from keras.models import Model"
      ]
    },
    {
      "cell_type": "code",
      "execution_count": null,
      "metadata": {
        "id": "7uaj0DBK6HkN"
      },
      "outputs": [],
      "source": [
        "# splitting the dataset 75% for training and 25% testing\n",
        "X_train, X_test = train_test_split(bin_data, test_size=0.25, random_state=42)"
      ]
    },
    {
      "cell_type": "code",
      "execution_count": null,
      "metadata": {
        "id": "-12iPEfcGzHi"
      },
      "outputs": [],
      "source": [
        "# dataset excluding target attribute (encoded, one-hot-encoded,original)\n",
        "X_train = X_train.drop(['intrusion','abnormal','normal','label'],axis=1) \n",
        "\n",
        "y_test = X_test['intrusion'] # target attribute\n",
        "\n",
        "# dataset excluding target attribute (encoded, one-hot-encoded,original)\n",
        "X_test = X_test.drop(['intrusion','abnormal','normal','label'],axis=1)"
      ]
    },
    {
      "cell_type": "code",
      "execution_count": null,
      "metadata": {
        "id": "347gsEWqAQHJ"
      },
      "outputs": [],
      "source": [
        "X_train = X_train.values\n",
        "X_test = X_test.values\n",
        "y_test = y_test.values"
      ]
    },
    {
      "cell_type": "code",
      "execution_count": null,
      "metadata": {
        "id": "wxoezCMzlC0-"
      },
      "outputs": [],
      "source": [
        "input_dim = X_train.shape[1]\n",
        "encoding_dim = 50\n",
        "\n",
        "#input layer\n",
        "input_layer = Input(shape=(input_dim, ))\n",
        "#encoding layer with 50 neurons\n",
        "encoder = Dense(encoding_dim, activation=\"relu\")(input_layer)           \n",
        "#decoding and output layer\n",
        "output_layer = Dense(input_dim, activation='softmax')(encoder)"
      ]
    },
    {
      "cell_type": "code",
      "execution_count": null,
      "metadata": {
        "id": "SMS9roLx09rn"
      },
      "outputs": [],
      "source": [
        "# creating model with input, encoding, decoding, output layers\n",
        "autoencoder = Model(inputs=input_layer, outputs=output_layer)\n",
        "\n",
        "# defining loss function, optimizer, metrics and then compiling model\n",
        "autoencoder.compile(optimizer='adam', loss='mean_squared_error',metrics=['accuracy'])"
      ]
    },
    {
      "cell_type": "code",
      "execution_count": null,
      "metadata": {
        "colab": {
          "base_uri": "https://localhost:8080/"
        },
        "id": "oEBUVTQG9rMa",
        "outputId": "bd676303-d1dc-49b7-c246-2566950cbb51"
      },
      "outputs": [
        {
          "name": "stdout",
          "output_type": "stream",
          "text": [
            "Model: \"model\"\n",
            "_________________________________________________________________\n",
            "Layer (type)                 Output Shape              Param #   \n",
            "=================================================================\n",
            "input_1 (InputLayer)         [(None, 93)]              0         \n",
            "_________________________________________________________________\n",
            "dense_4 (Dense)              (None, 50)                4700      \n",
            "_________________________________________________________________\n",
            "dense_5 (Dense)              (None, 93)                4743      \n",
            "=================================================================\n",
            "Total params: 9,443\n",
            "Trainable params: 9,443\n",
            "Non-trainable params: 0\n",
            "_________________________________________________________________\n"
          ]
        }
      ],
      "source": [
        "# summary of model layers\n",
        "autoencoder.summary()"
      ]
    },
    {
      "cell_type": "code",
      "execution_count": null,
      "metadata": {
        "colab": {
          "base_uri": "https://localhost:8080/"
        },
        "id": "UChFX8029tsb",
        "outputId": "88a670c2-2872-4c35-a2fb-18ba5185336a"
      },
      "outputs": [
        {
          "name": "stdout",
          "output_type": "stream",
          "text": [
            "Epoch 1/100\n",
            "189/189 [==============================] - 1s 4ms/step - loss: 0.1214 - accuracy: 0.0525 - val_loss: 0.1063 - val_accuracy: 0.4071\n",
            "Epoch 2/100\n",
            "189/189 [==============================] - 1s 3ms/step - loss: 0.1056 - accuracy: 0.6072 - val_loss: 0.1051 - val_accuracy: 0.6891\n",
            "Epoch 3/100\n",
            "189/189 [==============================] - 1s 3ms/step - loss: 0.1048 - accuracy: 0.7082 - val_loss: 0.1049 - val_accuracy: 0.7015\n",
            "Epoch 4/100\n",
            "189/189 [==============================] - 1s 4ms/step - loss: 0.1048 - accuracy: 0.7324 - val_loss: 0.1048 - val_accuracy: 0.7213\n",
            "Epoch 5/100\n",
            "189/189 [==============================] - 1s 4ms/step - loss: 0.1046 - accuracy: 0.7678 - val_loss: 0.1047 - val_accuracy: 0.8029\n",
            "Epoch 6/100\n",
            "189/189 [==============================] - 1s 4ms/step - loss: 0.1043 - accuracy: 0.8180 - val_loss: 0.1047 - val_accuracy: 0.8578\n",
            "Epoch 7/100\n",
            "189/189 [==============================] - 1s 4ms/step - loss: 0.1044 - accuracy: 0.8400 - val_loss: 0.1047 - val_accuracy: 0.8321\n",
            "Epoch 8/100\n",
            "189/189 [==============================] - 1s 4ms/step - loss: 0.1042 - accuracy: 0.8502 - val_loss: 0.1047 - val_accuracy: 0.8539\n",
            "Epoch 9/100\n",
            "189/189 [==============================] - 1s 4ms/step - loss: 0.1043 - accuracy: 0.8635 - val_loss: 0.1047 - val_accuracy: 0.8890\n",
            "Epoch 10/100\n",
            "189/189 [==============================] - 1s 4ms/step - loss: 0.1043 - accuracy: 0.8722 - val_loss: 0.1046 - val_accuracy: 0.8444\n",
            "Epoch 11/100\n",
            "189/189 [==============================] - 1s 4ms/step - loss: 0.1042 - accuracy: 0.8681 - val_loss: 0.1046 - val_accuracy: 0.8839\n",
            "Epoch 12/100\n",
            "189/189 [==============================] - 1s 3ms/step - loss: 0.1045 - accuracy: 0.8747 - val_loss: 0.1046 - val_accuracy: 0.8875\n",
            "Epoch 13/100\n",
            "189/189 [==============================] - 1s 3ms/step - loss: 0.1044 - accuracy: 0.8776 - val_loss: 0.1046 - val_accuracy: 0.8489\n",
            "Epoch 14/100\n",
            "189/189 [==============================] - 1s 3ms/step - loss: 0.1042 - accuracy: 0.8744 - val_loss: 0.1046 - val_accuracy: 0.8619\n",
            "Epoch 15/100\n",
            "189/189 [==============================] - 1s 3ms/step - loss: 0.1044 - accuracy: 0.8765 - val_loss: 0.1046 - val_accuracy: 0.8391\n",
            "Epoch 16/100\n",
            "189/189 [==============================] - 1s 4ms/step - loss: 0.1045 - accuracy: 0.8715 - val_loss: 0.1046 - val_accuracy: 0.8563\n",
            "Epoch 17/100\n",
            "189/189 [==============================] - 1s 4ms/step - loss: 0.1043 - accuracy: 0.8716 - val_loss: 0.1046 - val_accuracy: 0.8907\n",
            "Epoch 18/100\n",
            "189/189 [==============================] - 1s 3ms/step - loss: 0.1043 - accuracy: 0.8744 - val_loss: 0.1046 - val_accuracy: 0.9041\n",
            "Epoch 19/100\n",
            "189/189 [==============================] - 1s 4ms/step - loss: 0.1044 - accuracy: 0.8761 - val_loss: 0.1046 - val_accuracy: 0.8860\n",
            "Epoch 20/100\n",
            "189/189 [==============================] - 1s 3ms/step - loss: 0.1044 - accuracy: 0.8711 - val_loss: 0.1046 - val_accuracy: 0.8490\n",
            "Epoch 21/100\n",
            "189/189 [==============================] - 1s 3ms/step - loss: 0.1042 - accuracy: 0.8771 - val_loss: 0.1046 - val_accuracy: 0.9056\n",
            "Epoch 22/100\n",
            "189/189 [==============================] - 1s 4ms/step - loss: 0.1045 - accuracy: 0.8786 - val_loss: 0.1046 - val_accuracy: 0.8829\n",
            "Epoch 23/100\n",
            "189/189 [==============================] - 1s 3ms/step - loss: 0.1043 - accuracy: 0.8769 - val_loss: 0.1046 - val_accuracy: 0.8751\n",
            "Epoch 24/100\n",
            "189/189 [==============================] - 1s 3ms/step - loss: 0.1045 - accuracy: 0.8795 - val_loss: 0.1046 - val_accuracy: 0.8784\n",
            "Epoch 25/100\n",
            "189/189 [==============================] - 1s 4ms/step - loss: 0.1045 - accuracy: 0.8809 - val_loss: 0.1046 - val_accuracy: 0.8768\n",
            "Epoch 26/100\n",
            "189/189 [==============================] - 1s 4ms/step - loss: 0.1044 - accuracy: 0.8824 - val_loss: 0.1046 - val_accuracy: 0.8703\n",
            "Epoch 27/100\n",
            "189/189 [==============================] - 1s 4ms/step - loss: 0.1043 - accuracy: 0.8782 - val_loss: 0.1046 - val_accuracy: 0.8776\n",
            "Epoch 28/100\n",
            "189/189 [==============================] - 1s 4ms/step - loss: 0.1045 - accuracy: 0.8723 - val_loss: 0.1046 - val_accuracy: 0.9076\n",
            "Epoch 29/100\n",
            "189/189 [==============================] - 1s 4ms/step - loss: 0.1046 - accuracy: 0.8749 - val_loss: 0.1046 - val_accuracy: 0.8692\n",
            "Epoch 30/100\n",
            "189/189 [==============================] - 1s 4ms/step - loss: 0.1043 - accuracy: 0.8825 - val_loss: 0.1046 - val_accuracy: 0.8964\n",
            "Epoch 31/100\n",
            "189/189 [==============================] - 1s 4ms/step - loss: 0.1042 - accuracy: 0.8895 - val_loss: 0.1046 - val_accuracy: 0.8889\n",
            "Epoch 32/100\n",
            "189/189 [==============================] - 1s 4ms/step - loss: 0.1044 - accuracy: 0.8868 - val_loss: 0.1046 - val_accuracy: 0.8901\n",
            "Epoch 33/100\n",
            "189/189 [==============================] - 1s 4ms/step - loss: 0.1043 - accuracy: 0.8891 - val_loss: 0.1046 - val_accuracy: 0.8924\n",
            "Epoch 34/100\n",
            "189/189 [==============================] - 1s 3ms/step - loss: 0.1044 - accuracy: 0.8890 - val_loss: 0.1046 - val_accuracy: 0.8868\n",
            "Epoch 35/100\n",
            "189/189 [==============================] - 1s 4ms/step - loss: 0.1043 - accuracy: 0.8915 - val_loss: 0.1046 - val_accuracy: 0.8787\n",
            "Epoch 36/100\n",
            "189/189 [==============================] - 1s 4ms/step - loss: 0.1041 - accuracy: 0.8926 - val_loss: 0.1046 - val_accuracy: 0.8946\n",
            "Epoch 37/100\n",
            "189/189 [==============================] - 1s 4ms/step - loss: 0.1043 - accuracy: 0.8950 - val_loss: 0.1046 - val_accuracy: 0.9071\n",
            "Epoch 38/100\n",
            "189/189 [==============================] - 1s 4ms/step - loss: 0.1042 - accuracy: 0.8936 - val_loss: 0.1046 - val_accuracy: 0.8880\n",
            "Epoch 39/100\n",
            "189/189 [==============================] - 1s 4ms/step - loss: 0.1045 - accuracy: 0.8981 - val_loss: 0.1046 - val_accuracy: 0.8783\n",
            "Epoch 40/100\n",
            "189/189 [==============================] - 1s 4ms/step - loss: 0.1041 - accuracy: 0.8967 - val_loss: 0.1046 - val_accuracy: 0.9142\n",
            "Epoch 41/100\n",
            "189/189 [==============================] - 1s 4ms/step - loss: 0.1042 - accuracy: 0.8995 - val_loss: 0.1046 - val_accuracy: 0.9112\n",
            "Epoch 42/100\n",
            "189/189 [==============================] - 1s 4ms/step - loss: 0.1046 - accuracy: 0.8972 - val_loss: 0.1046 - val_accuracy: 0.8945\n",
            "Epoch 43/100\n",
            "189/189 [==============================] - 1s 4ms/step - loss: 0.1041 - accuracy: 0.8989 - val_loss: 0.1046 - val_accuracy: 0.9053\n",
            "Epoch 44/100\n",
            "189/189 [==============================] - 1s 4ms/step - loss: 0.1045 - accuracy: 0.9008 - val_loss: 0.1046 - val_accuracy: 0.9423\n",
            "Epoch 45/100\n",
            "189/189 [==============================] - 1s 4ms/step - loss: 0.1042 - accuracy: 0.9011 - val_loss: 0.1046 - val_accuracy: 0.9121\n",
            "Epoch 46/100\n",
            "189/189 [==============================] - 1s 4ms/step - loss: 0.1042 - accuracy: 0.9046 - val_loss: 0.1046 - val_accuracy: 0.9086\n",
            "Epoch 47/100\n",
            "189/189 [==============================] - 1s 4ms/step - loss: 0.1042 - accuracy: 0.9010 - val_loss: 0.1046 - val_accuracy: 0.9046\n",
            "Epoch 48/100\n",
            "189/189 [==============================] - 1s 4ms/step - loss: 0.1044 - accuracy: 0.9018 - val_loss: 0.1046 - val_accuracy: 0.9101\n",
            "Epoch 49/100\n",
            "189/189 [==============================] - 1s 4ms/step - loss: 0.1041 - accuracy: 0.9052 - val_loss: 0.1046 - val_accuracy: 0.9005\n",
            "Epoch 50/100\n",
            "189/189 [==============================] - 1s 4ms/step - loss: 0.1045 - accuracy: 0.9021 - val_loss: 0.1046 - val_accuracy: 0.9002\n",
            "Epoch 51/100\n",
            "189/189 [==============================] - 1s 4ms/step - loss: 0.1041 - accuracy: 0.9043 - val_loss: 0.1046 - val_accuracy: 0.9118\n",
            "Epoch 52/100\n",
            "189/189 [==============================] - 1s 4ms/step - loss: 0.1046 - accuracy: 0.9061 - val_loss: 0.1046 - val_accuracy: 0.8976\n",
            "Epoch 53/100\n",
            "189/189 [==============================] - 1s 4ms/step - loss: 0.1045 - accuracy: 0.9042 - val_loss: 0.1046 - val_accuracy: 0.9160\n",
            "Epoch 54/100\n",
            "189/189 [==============================] - 1s 3ms/step - loss: 0.1045 - accuracy: 0.9054 - val_loss: 0.1046 - val_accuracy: 0.9379\n",
            "Epoch 55/100\n",
            "189/189 [==============================] - 1s 3ms/step - loss: 0.1042 - accuracy: 0.9078 - val_loss: 0.1046 - val_accuracy: 0.9240\n",
            "Epoch 56/100\n",
            "189/189 [==============================] - 1s 4ms/step - loss: 0.1044 - accuracy: 0.9082 - val_loss: 0.1046 - val_accuracy: 0.8829\n",
            "Epoch 57/100\n",
            "189/189 [==============================] - 1s 4ms/step - loss: 0.1045 - accuracy: 0.9063 - val_loss: 0.1046 - val_accuracy: 0.9355\n",
            "Epoch 58/100\n",
            "189/189 [==============================] - 1s 4ms/step - loss: 0.1044 - accuracy: 0.9100 - val_loss: 0.1046 - val_accuracy: 0.8864\n",
            "Epoch 59/100\n",
            "189/189 [==============================] - 1s 3ms/step - loss: 0.1044 - accuracy: 0.9086 - val_loss: 0.1046 - val_accuracy: 0.8953\n",
            "Epoch 60/100\n",
            "189/189 [==============================] - 1s 4ms/step - loss: 0.1043 - accuracy: 0.9072 - val_loss: 0.1046 - val_accuracy: 0.8933\n",
            "Epoch 61/100\n",
            "189/189 [==============================] - 1s 4ms/step - loss: 0.1044 - accuracy: 0.9077 - val_loss: 0.1046 - val_accuracy: 0.9145\n",
            "Epoch 62/100\n",
            "189/189 [==============================] - 1s 4ms/step - loss: 0.1041 - accuracy: 0.9075 - val_loss: 0.1046 - val_accuracy: 0.9012\n",
            "Epoch 63/100\n",
            "189/189 [==============================] - 1s 4ms/step - loss: 0.1042 - accuracy: 0.9079 - val_loss: 0.1046 - val_accuracy: 0.9194\n",
            "Epoch 64/100\n",
            "189/189 [==============================] - 1s 4ms/step - loss: 0.1043 - accuracy: 0.9088 - val_loss: 0.1046 - val_accuracy: 0.9280\n",
            "Epoch 65/100\n",
            "189/189 [==============================] - 1s 3ms/step - loss: 0.1043 - accuracy: 0.9077 - val_loss: 0.1046 - val_accuracy: 0.9067\n",
            "Epoch 66/100\n",
            "189/189 [==============================] - 1s 4ms/step - loss: 0.1043 - accuracy: 0.9087 - val_loss: 0.1046 - val_accuracy: 0.9489\n",
            "Epoch 67/100\n",
            "189/189 [==============================] - 1s 4ms/step - loss: 0.1041 - accuracy: 0.9096 - val_loss: 0.1046 - val_accuracy: 0.8849\n",
            "Epoch 68/100\n",
            "189/189 [==============================] - 1s 4ms/step - loss: 0.1042 - accuracy: 0.9094 - val_loss: 0.1046 - val_accuracy: 0.9129\n",
            "Epoch 69/100\n",
            "189/189 [==============================] - 1s 4ms/step - loss: 0.1043 - accuracy: 0.9091 - val_loss: 0.1046 - val_accuracy: 0.9039\n",
            "Epoch 70/100\n",
            "189/189 [==============================] - 1s 4ms/step - loss: 0.1043 - accuracy: 0.9099 - val_loss: 0.1046 - val_accuracy: 0.8840\n",
            "Epoch 71/100\n",
            "189/189 [==============================] - 1s 4ms/step - loss: 0.1042 - accuracy: 0.9056 - val_loss: 0.1046 - val_accuracy: 0.9125\n",
            "Epoch 72/100\n",
            "189/189 [==============================] - 1s 4ms/step - loss: 0.1044 - accuracy: 0.9093 - val_loss: 0.1046 - val_accuracy: 0.9081\n",
            "Epoch 73/100\n",
            "189/189 [==============================] - 1s 4ms/step - loss: 0.1041 - accuracy: 0.9083 - val_loss: 0.1046 - val_accuracy: 0.9223\n",
            "Epoch 74/100\n",
            "189/189 [==============================] - 1s 4ms/step - loss: 0.1044 - accuracy: 0.9103 - val_loss: 0.1046 - val_accuracy: 0.9291\n",
            "Epoch 75/100\n",
            "189/189 [==============================] - 1s 4ms/step - loss: 0.1043 - accuracy: 0.9099 - val_loss: 0.1046 - val_accuracy: 0.9301\n",
            "Epoch 76/100\n",
            "189/189 [==============================] - 1s 4ms/step - loss: 0.1042 - accuracy: 0.9117 - val_loss: 0.1046 - val_accuracy: 0.9067\n",
            "Epoch 77/100\n",
            "189/189 [==============================] - 1s 4ms/step - loss: 0.1045 - accuracy: 0.9092 - val_loss: 0.1046 - val_accuracy: 0.9443\n",
            "Epoch 78/100\n",
            "189/189 [==============================] - 1s 4ms/step - loss: 0.1042 - accuracy: 0.9094 - val_loss: 0.1046 - val_accuracy: 0.9180\n",
            "Epoch 79/100\n",
            "189/189 [==============================] - 1s 4ms/step - loss: 0.1046 - accuracy: 0.9113 - val_loss: 0.1046 - val_accuracy: 0.9019\n",
            "Epoch 80/100\n",
            "189/189 [==============================] - 1s 4ms/step - loss: 0.1045 - accuracy: 0.9115 - val_loss: 0.1046 - val_accuracy: 0.9522\n",
            "Epoch 81/100\n",
            "189/189 [==============================] - 1s 4ms/step - loss: 0.1043 - accuracy: 0.9105 - val_loss: 0.1046 - val_accuracy: 0.9054\n",
            "Epoch 82/100\n",
            "189/189 [==============================] - 1s 4ms/step - loss: 0.1044 - accuracy: 0.9097 - val_loss: 0.1046 - val_accuracy: 0.9070\n",
            "Epoch 83/100\n",
            "189/189 [==============================] - 1s 4ms/step - loss: 0.1042 - accuracy: 0.9082 - val_loss: 0.1046 - val_accuracy: 0.9220\n",
            "Epoch 84/100\n",
            "189/189 [==============================] - 1s 4ms/step - loss: 0.1043 - accuracy: 0.9112 - val_loss: 0.1046 - val_accuracy: 0.8926\n",
            "Epoch 85/100\n",
            "189/189 [==============================] - 1s 4ms/step - loss: 0.1041 - accuracy: 0.9097 - val_loss: 0.1046 - val_accuracy: 0.8871\n",
            "Epoch 86/100\n",
            "189/189 [==============================] - 1s 4ms/step - loss: 0.1044 - accuracy: 0.9104 - val_loss: 0.1046 - val_accuracy: 0.9107\n",
            "Epoch 87/100\n",
            "189/189 [==============================] - 1s 4ms/step - loss: 0.1044 - accuracy: 0.9107 - val_loss: 0.1046 - val_accuracy: 0.8937\n",
            "Epoch 88/100\n",
            "189/189 [==============================] - 1s 4ms/step - loss: 0.1043 - accuracy: 0.9124 - val_loss: 0.1046 - val_accuracy: 0.9075\n",
            "Epoch 89/100\n",
            "189/189 [==============================] - 1s 4ms/step - loss: 0.1043 - accuracy: 0.9115 - val_loss: 0.1046 - val_accuracy: 0.8935\n",
            "Epoch 90/100\n",
            "189/189 [==============================] - 1s 4ms/step - loss: 0.1044 - accuracy: 0.9131 - val_loss: 0.1046 - val_accuracy: 0.9289\n",
            "Epoch 91/100\n",
            "189/189 [==============================] - 1s 4ms/step - loss: 0.1043 - accuracy: 0.9101 - val_loss: 0.1046 - val_accuracy: 0.8831\n",
            "Epoch 92/100\n",
            "189/189 [==============================] - 1s 3ms/step - loss: 0.1043 - accuracy: 0.9119 - val_loss: 0.1046 - val_accuracy: 0.8963\n",
            "Epoch 93/100\n",
            "189/189 [==============================] - 1s 4ms/step - loss: 0.1041 - accuracy: 0.9127 - val_loss: 0.1046 - val_accuracy: 0.9140\n",
            "Epoch 94/100\n",
            "189/189 [==============================] - 1s 4ms/step - loss: 0.1044 - accuracy: 0.9132 - val_loss: 0.1046 - val_accuracy: 0.9410\n",
            "Epoch 95/100\n",
            "189/189 [==============================] - 1s 4ms/step - loss: 0.1043 - accuracy: 0.9140 - val_loss: 0.1046 - val_accuracy: 0.8723\n",
            "Epoch 96/100\n",
            "189/189 [==============================] - 1s 4ms/step - loss: 0.1044 - accuracy: 0.9132 - val_loss: 0.1046 - val_accuracy: 0.8909\n",
            "Epoch 97/100\n",
            "189/189 [==============================] - 1s 4ms/step - loss: 0.1045 - accuracy: 0.9140 - val_loss: 0.1046 - val_accuracy: 0.9291\n",
            "Epoch 98/100\n",
            "189/189 [==============================] - 1s 4ms/step - loss: 0.1044 - accuracy: 0.9119 - val_loss: 0.1046 - val_accuracy: 0.9319\n",
            "Epoch 99/100\n",
            "189/189 [==============================] - 1s 4ms/step - loss: 0.1043 - accuracy: 0.9135 - val_loss: 0.1046 - val_accuracy: 0.9421\n",
            "Epoch 100/100\n",
            "189/189 [==============================] - 1s 4ms/step - loss: 0.1043 - accuracy: 0.9156 - val_loss: 0.1046 - val_accuracy: 0.9227\n"
          ]
        }
      ],
      "source": [
        "# training the model on training dataset\n",
        "history = autoencoder.fit(X_train, X_train, epochs=100,batch_size=500,validation_data=(X_test, X_test)).history"
      ]
    },
    {
      "cell_type": "code",
      "execution_count": null,
      "metadata": {
        "colab": {
          "base_uri": "https://localhost:8080/"
        },
        "id": "JSZ9mOeM1mc4",
        "outputId": "5aa44835-8e18-4b69-d9be-434dff3b0bf6"
      },
      "outputs": [
        {
          "name": "stdout",
          "output_type": "stream",
          "text": [
            "Saved model to disk\n",
            "Loaded model from disk\n"
          ]
        }
      ],
      "source": [
        "filepath = './models/ae_binary.json'\n",
        "weightspath = './weights/ae_binary.h5'\n",
        "if (not path.isfile(filepath)): \n",
        "  # serialize model to JSON\n",
        "  autoencoder_json = autoencoder.to_json()\n",
        "  with open(filepath, \"w\") as json_file:\n",
        "    json_file.write(autoencoder_json)\n",
        "\n",
        "  # serialize weights to HDF5\n",
        "  autoencoder.save_weights(weightspath)\n",
        "  print(\"Saved model to disk\")\n",
        "\n",
        "  # load json and create model\n",
        "  json_file = open(filepath, 'r')\n",
        "  loaded_model_json = json_file.read()\n",
        "  json_file.close()\n",
        "  autoencoder = model_from_json(loaded_model_json)\n",
        "\n",
        "  # load weights into new model\n",
        "  autoencoder.load_weights(weightspath)\n",
        "  print(\"Loaded model from disk\")"
      ]
    },
    {
      "cell_type": "code",
      "execution_count": null,
      "metadata": {
        "id": "K8yypm1Z1nHr"
      },
      "outputs": [],
      "source": [
        "# defining loss function, optimizer, metrics and then compiling model\n",
        "autoencoder.compile(optimizer='adam', loss='mean_squared_error',metrics=['accuracy'])"
      ]
    },
    {
      "cell_type": "code",
      "execution_count": null,
      "metadata": {
        "colab": {
          "base_uri": "https://localhost:8080/"
        },
        "id": "Tec3S1UI0Auz",
        "outputId": "77493bd3-114b-4993-d8e2-f1499003beb3"
      },
      "outputs": [
        {
          "name": "stdout",
          "output_type": "stream",
          "text": [
            "985/985 [==============================] - 1s 1ms/step - loss: 0.1044 - accuracy: 0.9203\n",
            "Test results - Loss: 0.10457229614257812 - Accuracy: 0.9226519465446472%\n"
          ]
        }
      ],
      "source": [
        "# predicting target attribute on testing dataset\n",
        "test_results = autoencoder.evaluate(X_test, X_test, verbose=1)\n",
        "print(f'Test results - Loss: {test_results[0]} - Accuracy: {test_results[1]}%')"
      ]
    },
    {
      "cell_type": "code",
      "execution_count": null,
      "metadata": {
        "colab": {
          "base_uri": "https://localhost:8080/",
          "height": 295
        },
        "id": "2G1lDF19gUCA",
        "outputId": "5c1ad1cc-b623-4e63-cb87-8a7e94c2019c"
      },
      "outputs": [
        {
          "data": {
            "image/png": "[encoded data removed]",
            "text/plain": [
              "<Figure size 432x288 with 1 Axes>"
            ]
          },
          "metadata": {
            "needs_background": "light",
            "tags": []
          },
          "output_type": "display_data"
        }
      ],
      "source": [
        "# Plot of loss vs epoch of train and test dataset\n",
        "plt.plot(history['loss'])\n",
        "plt.plot(history['val_loss'])\n",
        "plt.title(\"Plot of loss vs epoch for train and test dataset\")\n",
        "plt.ylabel('loss')\n",
        "plt.xlabel('epoch')\n",
        "plt.legend(['train', 'test'], loc='upper right')\n",
        "plt.savefig('plots/ae_binary_loss.png')\n",
        "plt.show()"
      ]
    },
    {
      "cell_type": "code",
      "execution_count": null,
      "metadata": {
        "colab": {
          "base_uri": "https://localhost:8080/",
          "height": 295
        },
        "id": "nF9C3reggW_z",
        "outputId": "1c77973c-e82a-4ce1-fa30-f98fe676e8d2"
      },
      "outputs": [
        {
          "data": {
            "image/png": "[encoded data removed]",
            "text/plain": [
              "<Figure size 432x288 with 1 Axes>"
            ]
          },
          "metadata": {
            "needs_background": "light",
            "tags": []
          },
          "output_type": "display_data"
        }
      ],
      "source": [
        "# Plot of accuracy vs epoch of train and test dataset\n",
        "plt.plot(history['accuracy'])\n",
        "plt.plot(history['val_accuracy'])\n",
        "plt.title(\"Plot of accuracy vs epoch for train and test dataset\")\n",
        "plt.ylabel('accuracy')\n",
        "plt.xlabel('epoch')\n",
        "plt.legend(['train', 'test'], loc='best')\n",
        "plt.savefig('plots/ae_binary_accuracy.png')\n",
        "plt.show()"
      ]
    },
    {
      "cell_type": "code",
      "execution_count": null,
      "metadata": {
        "colab": {
          "base_uri": "https://localhost:8080/",
          "height": 312
        },
        "id": "ZY2NaxgdEHSE",
        "outputId": "04e50955-eec4-44de-c1a5-decc620eca82"
      },
      "outputs": [
        {
          "data": {
            "image/png": "[encoded data removed]",
            "text/plain": [
              "<IPython.core.display.Image object>"
            ]
          },
          "execution_count": 166,
          "metadata": {
            "tags": []
          },
          "output_type": "execute_result"
        }
      ],
      "source": [
        "# representation of model layers\n",
        "plot_model(autoencoder, to_file='plots/ae_binary.png', show_shapes=True,)"
      ]
    },
    {
      "cell_type": "code",
      "execution_count": null,
      "metadata": {
        "id": "lH62ub1mz98Z"
      },
      "outputs": [],
      "source": [
        "# calculating reconstruction error \n",
        "predictions = autoencoder.predict(X_test)"
      ]
    },
    {
      "cell_type": "code",
      "execution_count": null,
      "metadata": {
        "id": "_4-pGpAJ4UbZ"
      },
      "outputs": [],
      "source": [
        "mse = np.mean(np.power(X_test - predictions, 2), axis=1)\n",
        "error_df = pd.DataFrame({'reconstruction_error': mse,\n",
        "                        'true_class': y_test})"
      ]
    },
    {
      "cell_type": "code",
      "execution_count": null,
      "metadata": {
        "colab": {
          "base_uri": "https://localhost:8080/",
          "height": 297
        },
        "id": "V7eby65W4kHn",
        "outputId": "17456604-fe71-497c-f1cd-bc0225fdf422"
      },
      "outputs": [
        {
          "data": {
            "text/html": [
              "<div>\n",
              "<style scoped>\n",
              "    .dataframe tbody tr th:only-of-type {\n",
              "        vertical-align: middle;\n",
              "    }\n",
              "\n",
              "    .dataframe tbody tr th {\n",
              "        vertical-align: top;\n",
              "    }\n",
              "\n",
              "    .dataframe thead th {\n",
              "        text-align: right;\n",
              "    }\n",
              "</style>\n",
              "<table border=\"1\" class=\"dataframe\">\n",
              "  <thead>\n",
              "    <tr style=\"text-align: right;\">\n",
              "      <th></th>\n",
              "      <th>reconstruction_error</th>\n",
              "      <th>true_class</th>\n",
              "    </tr>\n",
              "  </thead>\n",
              "  <tbody>\n",
              "    <tr>\n",
              "      <th>count</th>\n",
              "      <td>31494.000000</td>\n",
              "      <td>31494.000000</td>\n",
              "    </tr>\n",
              "    <tr>\n",
              "      <th>mean</th>\n",
              "      <td>0.104572</td>\n",
              "      <td>0.532609</td>\n",
              "    </tr>\n",
              "    <tr>\n",
              "      <th>std</th>\n",
              "      <td>0.043577</td>\n",
              "      <td>0.498943</td>\n",
              "    </tr>\n",
              "    <tr>\n",
              "      <th>min</th>\n",
              "      <td>0.040633</td>\n",
              "      <td>0.000000</td>\n",
              "    </tr>\n",
              "    <tr>\n",
              "      <th>25%</th>\n",
              "      <td>0.074506</td>\n",
              "      <td>0.000000</td>\n",
              "    </tr>\n",
              "    <tr>\n",
              "      <th>50%</th>\n",
              "      <td>0.083821</td>\n",
              "      <td>1.000000</td>\n",
              "    </tr>\n",
              "    <tr>\n",
              "      <th>75%</th>\n",
              "      <td>0.151405</td>\n",
              "      <td>1.000000</td>\n",
              "    </tr>\n",
              "    <tr>\n",
              "      <th>max</th>\n",
              "      <td>0.229802</td>\n",
              "      <td>1.000000</td>\n",
              "    </tr>\n",
              "  </tbody>\n",
              "</table>\n",
              "</div>"
            ],
            "text/plain": [
              "       reconstruction_error    true_class\n",
              "count          31494.000000  31494.000000\n",
              "mean               0.104572      0.532609\n",
              "std                0.043577      0.498943\n",
              "min                0.040633      0.000000\n",
              "25%                0.074506      0.000000\n",
              "50%                0.083821      1.000000\n",
              "75%                0.151405      1.000000\n",
              "max                0.229802      1.000000"
            ]
          },
          "execution_count": 169,
          "metadata": {
            "tags": []
          },
          "output_type": "execute_result"
        }
      ],
      "source": [
        "error_df.describe()"
      ]
    }
  ],
  "metadata": {
    "colab": {
      "collapsed_sections": [],
      "name": "Classifiers_NSL-KDD.ipynb",
      "provenance": [],
      "toc_visible": true
    },
    "kernelspec": {
      "display_name": "Python 3",
      "name": "python3"
    },
    "language_info": {
      "codemirror_mode": {
        "name": "ipython",
        "version": 3
      },
      "file_extension": ".py",
      "mimetype": "text/x-python",
      "name": "python",
      "nbconvert_exporter": "python",
      "pygments_lexer": "ipython3",
      "version": "3.11.4"
    }
  },
  "nbformat": 4,
  "nbformat_minor": 0
}
